{
  "cells": [
    {
      "cell_type": "markdown",
      "metadata": {
        "id": "view-in-github",
        "colab_type": "text"
      },
      "source": [
        "<a href=\"https://colab.research.google.com/github/SzymonNowakowski/Machine-Learning-2024/blob/master/Lab12_nlp-introduction.ipynb\" target=\"_parent\"><img src=\"https://colab.research.google.com/assets/colab-badge.svg\" alt=\"Open In Colab\"/></a>"
      ]
    },
    {
      "cell_type": "markdown",
      "source": [
        "# Lab 12 - Natural Language Processing - Introduction\n",
        "\n",
        "### Author: Szymon Nowakowski\n"
      ],
      "metadata": {
        "id": "xl_-W_aXqjJ2"
      },
      "id": "xl_-W_aXqjJ2"
    },
    {
      "cell_type": "markdown",
      "source": [
        "# Introduction\n",
        "---------------\n"
      ],
      "metadata": {
        "id": "kzosqJ1czsY9"
      },
      "id": "kzosqJ1czsY9"
    },
    {
      "cell_type": "markdown",
      "source": [
        "# Google Crowdsource Sentiment Dataset  \n",
        "--------------\n",
        "\n",
        "It features **43k sentences** with **human-annotated emotion labels** from real-world user-generated content such as feedback, reviews, and comments.\n",
        "\n",
        "Each sentence can be labeled with **one or more of 27 fine-grained emotion categories**, such as:\n",
        "- *joy*, *amusement*, *approval*, *sadness*, *anger*, *fear*, *realization*, *pride*, etc.,  \n",
        "plus an optional **neutral** label.\n",
        "\n",
        "Because the dataset is **multi-label**, a single sentence may express a combination of emotions (e.g., *pride* and *fear*).\n",
        "\n",
        "The dataset was released by Google as part of its **Crowdsource project** and is related to the **GoEmotions** initiative. It's particularly valuable for building models that understand nuanced emotional language in realistic user comments.\n",
        "\n"
      ],
      "metadata": {
        "id": "G7rPtPD1zvCV"
      },
      "id": "G7rPtPD1zvCV"
    },
    {
      "cell_type": "markdown",
      "source": [
        "\n",
        "## Mapping emotions to sentiment\n",
        "\n",
        "To use the dataset for **sentiment classification**, a rule-based mapping is applied to reduce multi-label emotion annotations into a single sentiment label:\n",
        "\n",
        "- If **any emotion** in the label set is **positive** → classify as **Positive**\n",
        "- Else if **any emotion** in the label set is **negative** → classify as **Negative**\n",
        "- Else → classify as **Neutral**\n",
        "\n",
        "This decision rule captures the dominant emotional tone of each sentence, simplifying the dataset for use in binary or ternary sentiment classification tasks."
      ],
      "metadata": {
        "id": "eLVlq3YcVQ7u"
      },
      "id": "eLVlq3YcVQ7u"
    },
    {
      "cell_type": "code",
      "source": [
        "!pip install datasets"
      ],
      "metadata": {
        "colab": {
          "base_uri": "https://localhost:8080/"
        },
        "id": "yVUhR__7NByz",
        "outputId": "6c69e120-e343-435b-f0e5-42f40ef22489"
      },
      "id": "yVUhR__7NByz",
      "execution_count": 2,
      "outputs": [
        {
          "output_type": "stream",
          "name": "stdout",
          "text": [
            "Collecting datasets\n",
            "  Downloading datasets-3.5.0-py3-none-any.whl.metadata (19 kB)\n",
            "Requirement already satisfied: filelock in /usr/local/lib/python3.11/dist-packages (from datasets) (3.18.0)\n",
            "Requirement already satisfied: numpy>=1.17 in /usr/local/lib/python3.11/dist-packages (from datasets) (2.0.2)\n",
            "Requirement already satisfied: pyarrow>=15.0.0 in /usr/local/lib/python3.11/dist-packages (from datasets) (18.1.0)\n",
            "Collecting dill<0.3.9,>=0.3.0 (from datasets)\n",
            "  Downloading dill-0.3.8-py3-none-any.whl.metadata (10 kB)\n",
            "Requirement already satisfied: pandas in /usr/local/lib/python3.11/dist-packages (from datasets) (2.2.2)\n",
            "Requirement already satisfied: requests>=2.32.2 in /usr/local/lib/python3.11/dist-packages (from datasets) (2.32.3)\n",
            "Requirement already satisfied: tqdm>=4.66.3 in /usr/local/lib/python3.11/dist-packages (from datasets) (4.67.1)\n",
            "Collecting xxhash (from datasets)\n",
            "  Downloading xxhash-3.5.0-cp311-cp311-manylinux_2_17_x86_64.manylinux2014_x86_64.whl.metadata (12 kB)\n",
            "Collecting multiprocess<0.70.17 (from datasets)\n",
            "  Downloading multiprocess-0.70.16-py311-none-any.whl.metadata (7.2 kB)\n",
            "Collecting fsspec<=2024.12.0,>=2023.1.0 (from fsspec[http]<=2024.12.0,>=2023.1.0->datasets)\n",
            "  Downloading fsspec-2024.12.0-py3-none-any.whl.metadata (11 kB)\n",
            "Requirement already satisfied: aiohttp in /usr/local/lib/python3.11/dist-packages (from datasets) (3.11.15)\n",
            "Requirement already satisfied: huggingface-hub>=0.24.0 in /usr/local/lib/python3.11/dist-packages (from datasets) (0.30.2)\n",
            "Requirement already satisfied: packaging in /usr/local/lib/python3.11/dist-packages (from datasets) (24.2)\n",
            "Requirement already satisfied: pyyaml>=5.1 in /usr/local/lib/python3.11/dist-packages (from datasets) (6.0.2)\n",
            "Requirement already satisfied: aiohappyeyeballs>=2.3.0 in /usr/local/lib/python3.11/dist-packages (from aiohttp->datasets) (2.6.1)\n",
            "Requirement already satisfied: aiosignal>=1.1.2 in /usr/local/lib/python3.11/dist-packages (from aiohttp->datasets) (1.3.2)\n",
            "Requirement already satisfied: attrs>=17.3.0 in /usr/local/lib/python3.11/dist-packages (from aiohttp->datasets) (25.3.0)\n",
            "Requirement already satisfied: frozenlist>=1.1.1 in /usr/local/lib/python3.11/dist-packages (from aiohttp->datasets) (1.6.0)\n",
            "Requirement already satisfied: multidict<7.0,>=4.5 in /usr/local/lib/python3.11/dist-packages (from aiohttp->datasets) (6.4.3)\n",
            "Requirement already satisfied: propcache>=0.2.0 in /usr/local/lib/python3.11/dist-packages (from aiohttp->datasets) (0.3.1)\n",
            "Requirement already satisfied: yarl<2.0,>=1.17.0 in /usr/local/lib/python3.11/dist-packages (from aiohttp->datasets) (1.20.0)\n",
            "Requirement already satisfied: typing-extensions>=3.7.4.3 in /usr/local/lib/python3.11/dist-packages (from huggingface-hub>=0.24.0->datasets) (4.13.2)\n",
            "Requirement already satisfied: charset-normalizer<4,>=2 in /usr/local/lib/python3.11/dist-packages (from requests>=2.32.2->datasets) (3.4.1)\n",
            "Requirement already satisfied: idna<4,>=2.5 in /usr/local/lib/python3.11/dist-packages (from requests>=2.32.2->datasets) (3.10)\n",
            "Requirement already satisfied: urllib3<3,>=1.21.1 in /usr/local/lib/python3.11/dist-packages (from requests>=2.32.2->datasets) (2.3.0)\n",
            "Requirement already satisfied: certifi>=2017.4.17 in /usr/local/lib/python3.11/dist-packages (from requests>=2.32.2->datasets) (2025.1.31)\n",
            "Requirement already satisfied: python-dateutil>=2.8.2 in /usr/local/lib/python3.11/dist-packages (from pandas->datasets) (2.8.2)\n",
            "Requirement already satisfied: pytz>=2020.1 in /usr/local/lib/python3.11/dist-packages (from pandas->datasets) (2025.2)\n",
            "Requirement already satisfied: tzdata>=2022.7 in /usr/local/lib/python3.11/dist-packages (from pandas->datasets) (2025.2)\n",
            "Requirement already satisfied: six>=1.5 in /usr/local/lib/python3.11/dist-packages (from python-dateutil>=2.8.2->pandas->datasets) (1.17.0)\n",
            "Downloading datasets-3.5.0-py3-none-any.whl (491 kB)\n",
            "\u001b[2K   \u001b[90m━━━━━━━━━━━━━━━━━━━━━━━━━━━━━━━━━━━━━━━━\u001b[0m \u001b[32m491.2/491.2 kB\u001b[0m \u001b[31m10.0 MB/s\u001b[0m eta \u001b[36m0:00:00\u001b[0m\n",
            "\u001b[?25hDownloading dill-0.3.8-py3-none-any.whl (116 kB)\n",
            "\u001b[2K   \u001b[90m━━━━━━━━━━━━━━━━━━━━━━━━━━━━━━━━━━━━━━━━\u001b[0m \u001b[32m116.3/116.3 kB\u001b[0m \u001b[31m6.9 MB/s\u001b[0m eta \u001b[36m0:00:00\u001b[0m\n",
            "\u001b[?25hDownloading fsspec-2024.12.0-py3-none-any.whl (183 kB)\n",
            "\u001b[2K   \u001b[90m━━━━━━━━━━━━━━━━━━━━━━━━━━━━━━━━━━━━━━━━\u001b[0m \u001b[32m183.9/183.9 kB\u001b[0m \u001b[31m14.1 MB/s\u001b[0m eta \u001b[36m0:00:00\u001b[0m\n",
            "\u001b[?25hDownloading multiprocess-0.70.16-py311-none-any.whl (143 kB)\n",
            "\u001b[2K   \u001b[90m━━━━━━━━━━━━━━━━━━━━━━━━━━━━━━━━━━━━━━━━\u001b[0m \u001b[32m143.5/143.5 kB\u001b[0m \u001b[31m11.1 MB/s\u001b[0m eta \u001b[36m0:00:00\u001b[0m\n",
            "\u001b[?25hDownloading xxhash-3.5.0-cp311-cp311-manylinux_2_17_x86_64.manylinux2014_x86_64.whl (194 kB)\n",
            "\u001b[2K   \u001b[90m━━━━━━━━━━━━━━━━━━━━━━━━━━━━━━━━━━━━━━━━\u001b[0m \u001b[32m194.8/194.8 kB\u001b[0m \u001b[31m13.3 MB/s\u001b[0m eta \u001b[36m0:00:00\u001b[0m\n",
            "\u001b[?25hInstalling collected packages: xxhash, fsspec, dill, multiprocess, datasets\n",
            "  Attempting uninstall: fsspec\n",
            "    Found existing installation: fsspec 2025.3.2\n",
            "    Uninstalling fsspec-2025.3.2:\n",
            "      Successfully uninstalled fsspec-2025.3.2\n",
            "\u001b[31mERROR: pip's dependency resolver does not currently take into account all the packages that are installed. This behaviour is the source of the following dependency conflicts.\n",
            "torch 2.6.0+cu124 requires nvidia-cublas-cu12==12.4.5.8; platform_system == \"Linux\" and platform_machine == \"x86_64\", but you have nvidia-cublas-cu12 12.5.3.2 which is incompatible.\n",
            "torch 2.6.0+cu124 requires nvidia-cuda-cupti-cu12==12.4.127; platform_system == \"Linux\" and platform_machine == \"x86_64\", but you have nvidia-cuda-cupti-cu12 12.5.82 which is incompatible.\n",
            "torch 2.6.0+cu124 requires nvidia-cuda-nvrtc-cu12==12.4.127; platform_system == \"Linux\" and platform_machine == \"x86_64\", but you have nvidia-cuda-nvrtc-cu12 12.5.82 which is incompatible.\n",
            "torch 2.6.0+cu124 requires nvidia-cuda-runtime-cu12==12.4.127; platform_system == \"Linux\" and platform_machine == \"x86_64\", but you have nvidia-cuda-runtime-cu12 12.5.82 which is incompatible.\n",
            "torch 2.6.0+cu124 requires nvidia-cudnn-cu12==9.1.0.70; platform_system == \"Linux\" and platform_machine == \"x86_64\", but you have nvidia-cudnn-cu12 9.3.0.75 which is incompatible.\n",
            "torch 2.6.0+cu124 requires nvidia-cufft-cu12==11.2.1.3; platform_system == \"Linux\" and platform_machine == \"x86_64\", but you have nvidia-cufft-cu12 11.2.3.61 which is incompatible.\n",
            "torch 2.6.0+cu124 requires nvidia-curand-cu12==10.3.5.147; platform_system == \"Linux\" and platform_machine == \"x86_64\", but you have nvidia-curand-cu12 10.3.6.82 which is incompatible.\n",
            "torch 2.6.0+cu124 requires nvidia-cusolver-cu12==11.6.1.9; platform_system == \"Linux\" and platform_machine == \"x86_64\", but you have nvidia-cusolver-cu12 11.6.3.83 which is incompatible.\n",
            "torch 2.6.0+cu124 requires nvidia-cusparse-cu12==12.3.1.170; platform_system == \"Linux\" and platform_machine == \"x86_64\", but you have nvidia-cusparse-cu12 12.5.1.3 which is incompatible.\n",
            "torch 2.6.0+cu124 requires nvidia-nvjitlink-cu12==12.4.127; platform_system == \"Linux\" and platform_machine == \"x86_64\", but you have nvidia-nvjitlink-cu12 12.5.82 which is incompatible.\n",
            "gcsfs 2025.3.2 requires fsspec==2025.3.2, but you have fsspec 2024.12.0 which is incompatible.\u001b[0m\u001b[31m\n",
            "\u001b[0mSuccessfully installed datasets-3.5.0 dill-0.3.8 fsspec-2024.12.0 multiprocess-0.70.16 xxhash-3.5.0\n"
          ]
        }
      ]
    },
    {
      "cell_type": "code",
      "source": [
        "from datasets import load_dataset\n",
        "import pandas as pd\n",
        "\n",
        "# Load the GoEmotions dataset (by Google)\n",
        "dataset = load_dataset(\"go_emotions\")\n",
        "\n",
        "# Convert to binary sentiment (positive/neutral/negative)\n",
        "def map_to_sentiment(example):\n",
        "    positive = {\n",
        "        1,   # admiration\n",
        "        2,   # amusement\n",
        "        3,   # approval\n",
        "        7,   # caring\n",
        "        10,  # desire\n",
        "        12,  # excitement\n",
        "        14,  # gratitude\n",
        "        19,  # love\n",
        "        20,  # optimism\n",
        "        22,  # pride\n",
        "        23,  # relief\n",
        "        26   # joy\n",
        "    }\n",
        "\n",
        "    negative = {\n",
        "        4,   # anger\n",
        "        5,   # annoyance\n",
        "        6,   # disapproval\n",
        "        8,   # confusion\n",
        "        9,   # disappointment\n",
        "        11,  # embarrassment\n",
        "        13,  # fear\n",
        "        15,  # grief\n",
        "        16,  # nervousness\n",
        "        17,  # remorse\n",
        "        18  # sadness\n",
        "    }\n",
        "\n",
        "    neutral = {\n",
        "        0,   # neutral\n",
        "        21,  # curiosity (ambiguous, context-specific)\n",
        "        24,  # realization (realization label is often used for sentences that show understanding, acknowledgment, or reflection, without emotional intensity, like in “Oh, now I get what she meant” )\n",
        "        25,  # surprise (can be negative or positive, but often context-specific)\n",
        "        27   # none (used when no emotion is detected)\n",
        "    }\n",
        "    labels = set(example[\"labels\"])\n",
        "    if labels & positive:\n",
        "        return \"positive\"\n",
        "    elif labels & negative:\n",
        "        return \"negative\"\n",
        "    else:\n",
        "        return \"neutral\"\n",
        "\n",
        "# Apply sentiment mapping\n",
        "dataset = dataset[\"train\"].map(lambda x: {\"sentiment\": map_to_sentiment(x)})\n",
        "\n",
        "# Convert to DataFrame for easier use\n",
        "df = dataset.to_pandas()[[\"text\", \"sentiment\"]]\n",
        "\n",
        "print(df.sample(5))  # Show sample entries\n",
        "print(\"Rows:\", len(df))\n"
      ],
      "metadata": {
        "id": "E8GmG8SAzsE6",
        "colab": {
          "base_uri": "https://localhost:8080/"
        },
        "outputId": "3f73ce5c-c2ec-43da-b371-eb9a5bda123b"
      },
      "id": "E8GmG8SAzsE6",
      "execution_count": 11,
      "outputs": [
        {
          "output_type": "stream",
          "name": "stdout",
          "text": [
            "                                                    text sentiment\n",
            "11929  Dayyuuummm!!! If you ever get another one, you...  negative\n",
            "27426  > neoprene kayaking gloves Thanks will check t...  negative\n",
            "35543  Not cheating and not using exploits is honorab...  negative\n",
            "17869  Someone that can check your dash and aa your j...   neutral\n",
            "31134  watching [NAME] attempt hook shots gives me a ...  positive\n",
            "Rows: 43410\n"
          ]
        }
      ]
    },
    {
      "cell_type": "code",
      "source": [
        "from sklearn.model_selection import train_test_split\n",
        "\n",
        "# Split into 80% train and 20% validation\n",
        "train_df, val_df = train_test_split(df, test_size=0.2, random_state=42, stratify=df['sentiment'])\n",
        "\n",
        "# Check the sizes\n",
        "print(f\"Training size: {len(train_df)}, Validation size: {len(val_df)}\")\n",
        "print(train_df['sentiment'].value_counts(normalize=True))\n",
        "print(val_df['sentiment'].value_counts(normalize=True))"
      ],
      "metadata": {
        "colab": {
          "base_uri": "https://localhost:8080/"
        },
        "id": "BJeOvCCgSLWC",
        "outputId": "a6b715d3-0bed-4761-cf86-6fcfc0d20aee"
      },
      "id": "BJeOvCCgSLWC",
      "execution_count": 12,
      "outputs": [
        {
          "output_type": "stream",
          "name": "stdout",
          "text": [
            "Training size: 34728, Validation size: 8682\n",
            "sentiment\n",
            "neutral     0.391384\n",
            "positive    0.329158\n",
            "negative    0.279457\n",
            "Name: proportion, dtype: float64\n",
            "sentiment\n",
            "neutral     0.391384\n",
            "positive    0.329187\n",
            "negative    0.279429\n",
            "Name: proportion, dtype: float64\n"
          ]
        }
      ]
    },
    {
      "cell_type": "markdown",
      "source": [
        "# Tokenizer\n",
        "-------------------\n",
        "\n",
        "To feed text into a neural network, we need to represent words in a \"neural-network-ish\" way — that is, as numbers. The standard approach is to use a tokenizer, often from a pretrained model. However, since we plan to experiment with our own attention modules later on, **we’ll avoid using any pretrained tokenizer**.\n",
        "\n",
        "Instead, we’ll go with a simple, word-based tokenization. As part of this, we’ll clean the text by removing any non-standard HTML tags, digits, extra whitespace, and punctuation. We’ll also convert all words to lowercase to ensure consistency."
      ],
      "metadata": {
        "id": "T07SvDTYV6nO"
      },
      "id": "T07SvDTYV6nO"
    },
    {
      "cell_type": "markdown",
      "source": [
        "## Special Tokens: `<PAD>` and `<UNK>`\n",
        "\n",
        "In our text preprocessing pipeline, we convert each word to a number using a vocabulary. Two special tokens help us handle padding and unknown words.\n"
      ],
      "metadata": {
        "id": "IyT2bcscZu4P"
      },
      "id": "IyT2bcscZu4P"
    },
    {
      "cell_type": "markdown",
      "source": [
        "\n",
        "\n",
        "### `<PAD>` — Padding Token\n",
        "\n",
        "- Represents empty slots when we need all input sequences to be the same length.\n",
        "- Assigned index `0`.\n",
        "- Used so that batches of sentences can be processed together by the model.\n",
        "\n",
        "For example:  \n",
        "Original: `[17, 5, 23]`  \n",
        "Padded:   `[17, 5, 23, 0, 0]` (for a fixed length of 5)"
      ],
      "metadata": {
        "id": "Ha9i37gvaBUn"
      },
      "id": "Ha9i37gvaBUn"
    },
    {
      "cell_type": "markdown",
      "source": [
        "\n",
        "\n",
        "\n",
        "### `<UNK>` — Unknown Token\n",
        "\n",
        "- Represents any word that is **not in the vocabulary**.\n",
        "- Assigned index `1`.\n",
        "- Occurs when:\n",
        "  1. A word was **too rare in the training data** (appeared only once and was excluded from the vocabulary).\n",
        "  2. A word appears **only in validation or test data**.\n",
        "\n",
        "> In our setup, we **excluded all words that appear only once** in the training set.  \n",
        "> So even in the training data, some tokens are replaced with `<UNK>`.  \n",
        "> These are called **rare unknowns** — they help the model learn how to handle unusual or unfamiliar words.\n",
        "\n",
        "\n",
        "By including `<UNK>` during training, we teach the model how to deal with unseen or rare words at test time — which is **crucial for generalization**.\n"
      ],
      "metadata": {
        "id": "3Rymjwd6ZsoK"
      },
      "id": "3Rymjwd6ZsoK"
    },
    {
      "cell_type": "code",
      "source": [
        "import re\n",
        "from collections import Counter\n",
        "\n",
        "PAD_AND_MAX_LEN = 32\n",
        "\n",
        "# Tokenize with cleaning\n",
        "def tokenize(text):\n",
        "    text = text.lower()\n",
        "    text = re.sub(r'<[^>]+>', ' ', text)       # remove HTML tags\n",
        "    text = re.sub(r'[^a-z\\s]', ' ', text)      # remove digits and punctuation\n",
        "    text = re.sub(r'\\s+', ' ', text).strip()   # normalize whitespace\n",
        "    return text.split()\n",
        "\n",
        "# Tokenize text\n",
        "train_tokens = train_df['text'].apply(tokenize)\n",
        "val_tokens = val_df['text'].apply(tokenize)\n",
        "\n",
        "# Build vocabulary from training set — exclude rare words (freq = 1)\n",
        "token_counter = Counter(token for sentence in train_tokens for token in sentence)\n",
        "vocab = {\n",
        "    token: idx + 2    # +2 to account for <PAD> and <UNK> special tokens\n",
        "    for idx, (token, count) in enumerate(token_counter.items())\n",
        "    if count > 1\n",
        "}\n",
        "vocab['<PAD>'] = 0\n",
        "vocab['<UNK>'] = 1\n",
        "\n",
        "# Convert tokens to indices\n",
        "def tokens_to_indices(tokens, vocab):\n",
        "    return [vocab.get(token, vocab['<UNK>']) for token in tokens]\n",
        "\n",
        "# Pad or truncate sequences to a fixed length\n",
        "def pad_sequence(seq, max_len=32, pad_value=0):\n",
        "    if len(seq) < max_len:\n",
        "        return seq + [pad_value] * (max_len - len(seq))\n",
        "    else:\n",
        "        return seq[:max_len]\n",
        "\n",
        "# Apply both steps to train and val sets\n",
        "\n",
        "train_df['input_ids'] = train_tokens.apply(lambda tokens: pad_sequence(tokens_to_indices(tokens, vocab), max_len=PAD_AND_MAX_LEN))\n",
        "val_df['input_ids'] = val_tokens.apply(lambda tokens: pad_sequence(tokens_to_indices(tokens, vocab), max_len=PAD_AND_MAX_LEN))\n",
        "\n",
        "# Example check\n",
        "print(train_df[['text', 'input_ids']].head(3))\n",
        "\n",
        "\n"
      ],
      "metadata": {
        "colab": {
          "base_uri": "https://localhost:8080/"
        },
        "id": "bNJLBhifYFhO",
        "outputId": "e31d5e29-96ef-4180-f7a1-11258015a829"
      },
      "id": "bNJLBhifYFhO",
      "execution_count": 16,
      "outputs": [
        {
          "output_type": "stream",
          "name": "stdout",
          "text": [
            "                                                    text  \\\n",
            "21866  The guy that waived a future hall of famer. Ha...   \n",
            "5542                                          Stop what?   \n",
            "38431                                          Oh wow!!!   \n",
            "\n",
            "                                               input_ids  \n",
            "21866  [2, 3, 4, 1, 6, 7, 8, 9, 1, 11, 12, 13, 14, 15...  \n",
            "5542   [17, 18, 0, 0, 0, 0, 0, 0, 0, 0, 0, 0, 0, 0, 0...  \n",
            "38431  [19, 20, 0, 0, 0, 0, 0, 0, 0, 0, 0, 0, 0, 0, 0...  \n"
          ]
        }
      ]
    },
    {
      "cell_type": "markdown",
      "source": [
        "# Prepare Data Loaders\n",
        "--------------------\n",
        "\n",
        "We must transform the pandas dataframe to the dataset - it will, among other things, separate input data and labels and then wrap it in a dataloder."
      ],
      "metadata": {
        "id": "XDLaOuwegNXu"
      },
      "id": "XDLaOuwegNXu"
    },
    {
      "cell_type": "code",
      "source": [
        "import torch\n",
        "from torch.utils.data import TensorDataset, DataLoader\n",
        "\n",
        "BATCH_SIZE = 1024\n",
        "\n",
        "# Map labels to integers\n",
        "label2id = {'negative': 0, 'neutral': 1, 'positive': 2}\n",
        "train_labels = train_df['sentiment'].map(label2id).values\n",
        "val_labels = val_df['sentiment'].map(label2id).values\n",
        "\n",
        "# Convert input_ids and labels to tensors\n",
        "train_inputs = torch.tensor(train_df['input_ids'].tolist(), dtype=torch.long)\n",
        "train_labels = torch.tensor(train_labels, dtype=torch.long)\n",
        "\n",
        "val_inputs = torch.tensor(val_df['input_ids'].tolist(), dtype=torch.long)\n",
        "val_labels = torch.tensor(val_labels, dtype=torch.long)\n",
        "\n",
        "# Create TensorDatasets\n",
        "train_dataset = TensorDataset(train_inputs, train_labels)\n",
        "val_dataset = TensorDataset(val_inputs, val_labels)\n",
        "\n",
        "# Create DataLoaders\n",
        "train_loader = DataLoader(train_dataset, batch_size=BATCH_SIZE, shuffle=True)\n",
        "val_loader = DataLoader(val_dataset, batch_size=BATCH_SIZE)"
      ],
      "metadata": {
        "id": "432ev7Jxg9Fw"
      },
      "id": "432ev7Jxg9Fw",
      "execution_count": 18,
      "outputs": []
    },
    {
      "cell_type": "markdown",
      "source": [
        "# Classification Neural Network\n",
        "----------------------"
      ],
      "metadata": {
        "id": "cOF7Pkk5hdTd"
      },
      "id": "cOF7Pkk5hdTd"
    },
    {
      "cell_type": "code",
      "source": [
        "feature_cnt = 4\n",
        "vocab_len = max(vocab.values()) + 1   # maximal value (index) of a token\n",
        "\n",
        "class Net(torch.nn.Module):\n",
        "    def __init__(self):\n",
        "        torch.nn.Module.__init__(self)\n",
        "        self.embedding = torch.nn.Embedding(vocab_len, feature_cnt)\n",
        "        self.linear = torch.nn.Linear(feature_cnt, 3)\n",
        "    def forward(self, index):                    #batches, words\n",
        "        feature = self.embedding(index)          #batches, words, features\n",
        "        feature = feature.mean(-2)               #batches, features\n",
        "        classification = self.linear(feature)    #batches, 3\n",
        "        return classification\n",
        "\n",
        "net = Net()"
      ],
      "metadata": {
        "id": "obxbQeichhV-"
      },
      "id": "obxbQeichhV-",
      "execution_count": 21,
      "outputs": []
    },
    {
      "cell_type": "markdown",
      "source": [
        "# Training Loop as We know It\n",
        "----------------"
      ],
      "metadata": {
        "id": "bOD1hweknD7z"
      },
      "id": "bOD1hweknD7z"
    },
    {
      "cell_type": "code",
      "source": [
        "import time\n",
        "import torch\n",
        "import torch.nn.functional as F\n",
        "\n",
        "\n",
        "# Initialize model, optimizer, etc.\n",
        "device = torch.device(\"cuda\" if torch.cuda.is_available() else \"cpu\")\n",
        "print(f\"Working on {device}\")\n",
        "\n",
        "net = Net().to(device)\n",
        "optimizer = torch.optim.Adam(net.parameters(), lr=0.001)\n",
        "\n",
        "EPOCHS = 1000\n",
        "train_loss_history = []\n",
        "val_loss_history = []\n",
        "\n",
        "# Start training\n",
        "start_time = time.time()\n",
        "\n",
        "for epoch in range(EPOCHS):\n",
        "    net.train()\n",
        "    train_loss_sum = 0.0\n",
        "    train_correct = 0\n",
        "    train_total = 0\n",
        "\n",
        "    for batch_inputs, batch_labels in train_loader:\n",
        "        batch_inputs = batch_inputs.to(device)\n",
        "        batch_labels = batch_labels.to(device)\n",
        "\n",
        "        optimizer.zero_grad()\n",
        "        logits = net(batch_inputs)\n",
        "        loss = F.cross_entropy(logits, batch_labels)\n",
        "        loss.backward()\n",
        "        optimizer.step()\n",
        "\n",
        "        train_loss_sum += loss.item() * batch_inputs.size(0)\n",
        "        preds = torch.argmax(logits, dim=1)\n",
        "        train_correct += (preds == batch_labels).sum().item()\n",
        "        train_total += batch_inputs.size(0)\n",
        "\n",
        "    avg_train_loss = train_loss_sum / train_total\n",
        "    train_acc = train_correct / train_total\n",
        "    train_loss_history.append(avg_train_loss)\n",
        "\n",
        "    # === Validation ===\n",
        "    net.eval()\n",
        "    val_loss_sum = 0.0\n",
        "    val_correct = 0\n",
        "    val_total = 0\n",
        "\n",
        "    with torch.no_grad():\n",
        "        for batch_inputs, batch_labels in val_loader:\n",
        "            batch_inputs = batch_inputs.to(device)\n",
        "            batch_labels = batch_labels.to(device)\n",
        "\n",
        "            logits = net(batch_inputs)\n",
        "            loss = F.cross_entropy(logits, batch_labels)\n",
        "\n",
        "            val_loss_sum += loss.item() * batch_inputs.size(0)\n",
        "            preds = torch.argmax(logits, dim=1)\n",
        "            val_correct += (preds == batch_labels).sum().item()\n",
        "            val_total += batch_inputs.size(0)\n",
        "\n",
        "    avg_val_loss = val_loss_sum / val_total\n",
        "    val_acc = val_correct / val_total\n",
        "    val_loss_history.append(avg_val_loss)\n",
        "\n",
        "    if epoch % 10 == 0:\n",
        "        print(f\"Epoch {epoch:03d} | Train Loss: {avg_train_loss:.4f}, Acc: {train_acc:.4f} | Val Loss: {avg_val_loss:.4f}, Acc: {val_acc:.4f}\")\n",
        "\n",
        "# End timing\n",
        "end_time = time.time()\n",
        "print(f\"Elapsed time: {end_time - start_time:.2f} seconds\")"
      ],
      "metadata": {
        "id": "HCA6aXtlnH6J",
        "outputId": "567910e7-450f-4bf8-9c42-f54bcbaec5fb",
        "colab": {
          "base_uri": "https://localhost:8080/"
        }
      },
      "id": "HCA6aXtlnH6J",
      "execution_count": 23,
      "outputs": [
        {
          "output_type": "stream",
          "name": "stdout",
          "text": [
            "Working on cpu\n",
            "Epoch 000 | Train Loss: 1.1110, Acc: 0.3914 | Val Loss: 1.1057, Acc: 0.3914\n",
            "Epoch 010 | Train Loss: 1.0786, Acc: 0.3981 | Val Loss: 1.0813, Acc: 0.3948\n",
            "Epoch 020 | Train Loss: 1.0488, Acc: 0.4508 | Val Loss: 1.0591, Acc: 0.4364\n",
            "Epoch 030 | Train Loss: 1.0096, Acc: 0.4999 | Val Loss: 1.0339, Acc: 0.4713\n",
            "Epoch 040 | Train Loss: 0.9710, Acc: 0.5337 | Val Loss: 1.0126, Acc: 0.4941\n",
            "Epoch 050 | Train Loss: 0.9334, Acc: 0.5665 | Val Loss: 0.9936, Acc: 0.5164\n",
            "Epoch 060 | Train Loss: 0.8962, Acc: 0.5945 | Val Loss: 0.9763, Acc: 0.5324\n",
            "Epoch 070 | Train Loss: 0.8602, Acc: 0.6226 | Val Loss: 0.9613, Acc: 0.5464\n",
            "Epoch 080 | Train Loss: 0.8261, Acc: 0.6449 | Val Loss: 0.9490, Acc: 0.5547\n",
            "Epoch 090 | Train Loss: 0.7949, Acc: 0.6630 | Val Loss: 0.9398, Acc: 0.5667\n",
            "Epoch 100 | Train Loss: 0.7665, Acc: 0.6782 | Val Loss: 0.9333, Acc: 0.5744\n",
            "Epoch 110 | Train Loss: 0.7412, Acc: 0.6909 | Val Loss: 0.9299, Acc: 0.5827\n",
            "Epoch 120 | Train Loss: 0.7188, Acc: 0.7009 | Val Loss: 0.9289, Acc: 0.5871\n",
            "Epoch 130 | Train Loss: 0.6989, Acc: 0.7106 | Val Loss: 0.9299, Acc: 0.5909\n",
            "Epoch 140 | Train Loss: 0.6811, Acc: 0.7190 | Val Loss: 0.9334, Acc: 0.5931\n",
            "Epoch 150 | Train Loss: 0.6653, Acc: 0.7266 | Val Loss: 0.9379, Acc: 0.5918\n",
            "Epoch 160 | Train Loss: 0.6509, Acc: 0.7330 | Val Loss: 0.9440, Acc: 0.5928\n",
            "Epoch 170 | Train Loss: 0.6379, Acc: 0.7382 | Val Loss: 0.9512, Acc: 0.5934\n",
            "Epoch 180 | Train Loss: 0.6259, Acc: 0.7436 | Val Loss: 0.9593, Acc: 0.5915\n",
            "Epoch 190 | Train Loss: 0.6149, Acc: 0.7491 | Val Loss: 0.9683, Acc: 0.5916\n",
            "Epoch 200 | Train Loss: 0.6045, Acc: 0.7548 | Val Loss: 0.9779, Acc: 0.5890\n",
            "Epoch 210 | Train Loss: 0.5949, Acc: 0.7594 | Val Loss: 0.9884, Acc: 0.5888\n",
            "Epoch 220 | Train Loss: 0.5858, Acc: 0.7636 | Val Loss: 0.9992, Acc: 0.5882\n",
            "Epoch 230 | Train Loss: 0.5772, Acc: 0.7668 | Val Loss: 1.0104, Acc: 0.5850\n",
            "Epoch 240 | Train Loss: 0.5692, Acc: 0.7705 | Val Loss: 1.0223, Acc: 0.5847\n",
            "Epoch 250 | Train Loss: 0.5615, Acc: 0.7747 | Val Loss: 1.0345, Acc: 0.5830\n",
            "Epoch 260 | Train Loss: 0.5542, Acc: 0.7773 | Val Loss: 1.0470, Acc: 0.5822\n",
            "Epoch 270 | Train Loss: 0.5473, Acc: 0.7805 | Val Loss: 1.0591, Acc: 0.5819\n",
            "Epoch 280 | Train Loss: 0.5408, Acc: 0.7830 | Val Loss: 1.0721, Acc: 0.5782\n",
            "Epoch 290 | Train Loss: 0.5347, Acc: 0.7865 | Val Loss: 1.0852, Acc: 0.5784\n",
            "Epoch 300 | Train Loss: 0.5286, Acc: 0.7886 | Val Loss: 1.0986, Acc: 0.5776\n",
            "Epoch 310 | Train Loss: 0.5229, Acc: 0.7922 | Val Loss: 1.1123, Acc: 0.5753\n",
            "Epoch 320 | Train Loss: 0.5176, Acc: 0.7952 | Val Loss: 1.1262, Acc: 0.5758\n",
            "Epoch 330 | Train Loss: 0.5124, Acc: 0.7974 | Val Loss: 1.1402, Acc: 0.5750\n",
            "Epoch 340 | Train Loss: 0.5074, Acc: 0.7996 | Val Loss: 1.1540, Acc: 0.5718\n",
            "Epoch 350 | Train Loss: 0.5028, Acc: 0.8017 | Val Loss: 1.1681, Acc: 0.5698\n",
            "Epoch 360 | Train Loss: 0.4984, Acc: 0.8039 | Val Loss: 1.1826, Acc: 0.5693\n",
            "Epoch 370 | Train Loss: 0.4941, Acc: 0.8057 | Val Loss: 1.1970, Acc: 0.5680\n",
            "Epoch 380 | Train Loss: 0.4900, Acc: 0.8082 | Val Loss: 1.2114, Acc: 0.5655\n",
            "Epoch 390 | Train Loss: 0.4861, Acc: 0.8095 | Val Loss: 1.2262, Acc: 0.5658\n",
            "Epoch 400 | Train Loss: 0.4823, Acc: 0.8112 | Val Loss: 1.2409, Acc: 0.5637\n",
            "Epoch 410 | Train Loss: 0.4789, Acc: 0.8134 | Val Loss: 1.2557, Acc: 0.5633\n",
            "Epoch 420 | Train Loss: 0.4754, Acc: 0.8149 | Val Loss: 1.2704, Acc: 0.5631\n",
            "Epoch 430 | Train Loss: 0.4721, Acc: 0.8148 | Val Loss: 1.2851, Acc: 0.5595\n",
            "Epoch 440 | Train Loss: 0.4690, Acc: 0.8166 | Val Loss: 1.3002, Acc: 0.5589\n",
            "Epoch 450 | Train Loss: 0.4659, Acc: 0.8182 | Val Loss: 1.3150, Acc: 0.5570\n",
            "Epoch 460 | Train Loss: 0.4631, Acc: 0.8193 | Val Loss: 1.3303, Acc: 0.5556\n",
            "Epoch 470 | Train Loss: 0.4602, Acc: 0.8213 | Val Loss: 1.3457, Acc: 0.5551\n",
            "Epoch 480 | Train Loss: 0.4578, Acc: 0.8222 | Val Loss: 1.3604, Acc: 0.5538\n",
            "Epoch 490 | Train Loss: 0.4551, Acc: 0.8234 | Val Loss: 1.3754, Acc: 0.5524\n",
            "Epoch 500 | Train Loss: 0.4526, Acc: 0.8245 | Val Loss: 1.3907, Acc: 0.5517\n",
            "Epoch 510 | Train Loss: 0.4503, Acc: 0.8248 | Val Loss: 1.4061, Acc: 0.5506\n",
            "Epoch 520 | Train Loss: 0.4480, Acc: 0.8258 | Val Loss: 1.4215, Acc: 0.5490\n",
            "Epoch 530 | Train Loss: 0.4457, Acc: 0.8270 | Val Loss: 1.4367, Acc: 0.5486\n",
            "Epoch 540 | Train Loss: 0.4438, Acc: 0.8267 | Val Loss: 1.4524, Acc: 0.5455\n",
            "Epoch 550 | Train Loss: 0.4419, Acc: 0.8280 | Val Loss: 1.4671, Acc: 0.5468\n",
            "Epoch 560 | Train Loss: 0.4397, Acc: 0.8292 | Val Loss: 1.4830, Acc: 0.5426\n",
            "Epoch 570 | Train Loss: 0.4380, Acc: 0.8305 | Val Loss: 1.4979, Acc: 0.5452\n",
            "Epoch 580 | Train Loss: 0.4361, Acc: 0.8307 | Val Loss: 1.5134, Acc: 0.5412\n",
            "Epoch 590 | Train Loss: 0.4343, Acc: 0.8320 | Val Loss: 1.5286, Acc: 0.5418\n",
            "Epoch 600 | Train Loss: 0.4327, Acc: 0.8335 | Val Loss: 1.5441, Acc: 0.5425\n",
            "Epoch 610 | Train Loss: 0.4311, Acc: 0.8341 | Val Loss: 1.5591, Acc: 0.5404\n",
            "Epoch 620 | Train Loss: 0.4296, Acc: 0.8345 | Val Loss: 1.5744, Acc: 0.5404\n",
            "Epoch 630 | Train Loss: 0.4280, Acc: 0.8352 | Val Loss: 1.5897, Acc: 0.5395\n",
            "Epoch 640 | Train Loss: 0.4267, Acc: 0.8357 | Val Loss: 1.6052, Acc: 0.5392\n",
            "Epoch 650 | Train Loss: 0.4252, Acc: 0.8364 | Val Loss: 1.6201, Acc: 0.5392\n",
            "Epoch 660 | Train Loss: 0.4238, Acc: 0.8370 | Val Loss: 1.6356, Acc: 0.5386\n",
            "Epoch 670 | Train Loss: 0.4225, Acc: 0.8379 | Val Loss: 1.6503, Acc: 0.5392\n",
            "Epoch 680 | Train Loss: 0.4214, Acc: 0.8379 | Val Loss: 1.6657, Acc: 0.5370\n",
            "Epoch 690 | Train Loss: 0.4202, Acc: 0.8385 | Val Loss: 1.6808, Acc: 0.5361\n",
            "Epoch 700 | Train Loss: 0.4189, Acc: 0.8392 | Val Loss: 1.6959, Acc: 0.5359\n",
            "Epoch 710 | Train Loss: 0.4179, Acc: 0.8392 | Val Loss: 1.7109, Acc: 0.5355\n",
            "Epoch 720 | Train Loss: 0.4168, Acc: 0.8398 | Val Loss: 1.7267, Acc: 0.5380\n",
            "Epoch 730 | Train Loss: 0.4157, Acc: 0.8408 | Val Loss: 1.7413, Acc: 0.5344\n",
            "Epoch 740 | Train Loss: 0.4146, Acc: 0.8405 | Val Loss: 1.7565, Acc: 0.5341\n",
            "Epoch 750 | Train Loss: 0.4136, Acc: 0.8411 | Val Loss: 1.7712, Acc: 0.5343\n",
            "Epoch 760 | Train Loss: 0.4127, Acc: 0.8419 | Val Loss: 1.7866, Acc: 0.5331\n",
            "Epoch 770 | Train Loss: 0.4118, Acc: 0.8424 | Val Loss: 1.8008, Acc: 0.5321\n",
            "Epoch 780 | Train Loss: 0.4108, Acc: 0.8419 | Val Loss: 1.8158, Acc: 0.5321\n",
            "Epoch 790 | Train Loss: 0.4099, Acc: 0.8427 | Val Loss: 1.8304, Acc: 0.5324\n",
            "Epoch 800 | Train Loss: 0.4091, Acc: 0.8431 | Val Loss: 1.8455, Acc: 0.5316\n",
            "Epoch 810 | Train Loss: 0.4082, Acc: 0.8432 | Val Loss: 1.8602, Acc: 0.5310\n",
            "Epoch 820 | Train Loss: 0.4076, Acc: 0.8434 | Val Loss: 1.8751, Acc: 0.5309\n",
            "Epoch 830 | Train Loss: 0.4067, Acc: 0.8440 | Val Loss: 1.8894, Acc: 0.5306\n",
            "Epoch 840 | Train Loss: 0.4060, Acc: 0.8441 | Val Loss: 1.9038, Acc: 0.5294\n",
            "Epoch 850 | Train Loss: 0.4052, Acc: 0.8441 | Val Loss: 1.9186, Acc: 0.5293\n",
            "Epoch 860 | Train Loss: 0.4046, Acc: 0.8445 | Val Loss: 1.9333, Acc: 0.5291\n",
            "Epoch 870 | Train Loss: 0.4039, Acc: 0.8445 | Val Loss: 1.9478, Acc: 0.5287\n",
            "Epoch 880 | Train Loss: 0.4032, Acc: 0.8445 | Val Loss: 1.9620, Acc: 0.5290\n",
            "Epoch 890 | Train Loss: 0.4026, Acc: 0.8447 | Val Loss: 1.9762, Acc: 0.5275\n",
            "Epoch 900 | Train Loss: 0.4019, Acc: 0.8453 | Val Loss: 1.9913, Acc: 0.5281\n",
            "Epoch 910 | Train Loss: 0.4013, Acc: 0.8454 | Val Loss: 2.0049, Acc: 0.5276\n",
            "Epoch 920 | Train Loss: 0.4007, Acc: 0.8457 | Val Loss: 2.0191, Acc: 0.5268\n",
            "Epoch 930 | Train Loss: 0.4004, Acc: 0.8459 | Val Loss: 2.0332, Acc: 0.5282\n",
            "Epoch 940 | Train Loss: 0.3997, Acc: 0.8459 | Val Loss: 2.0476, Acc: 0.5266\n",
            "Epoch 950 | Train Loss: 0.3993, Acc: 0.8458 | Val Loss: 2.0619, Acc: 0.5263\n",
            "Epoch 960 | Train Loss: 0.3985, Acc: 0.8470 | Val Loss: 2.0754, Acc: 0.5263\n",
            "Epoch 970 | Train Loss: 0.3981, Acc: 0.8475 | Val Loss: 2.0897, Acc: 0.5255\n",
            "Epoch 980 | Train Loss: 0.3975, Acc: 0.8471 | Val Loss: 2.1037, Acc: 0.5257\n",
            "Epoch 990 | Train Loss: 0.3970, Acc: 0.8475 | Val Loss: 2.1171, Acc: 0.5249\n",
            "Elapsed time: 948.63 seconds\n"
          ]
        }
      ]
    },
    {
      "cell_type": "code",
      "source": [
        "import matplotlib.pyplot as plt\n",
        "\n",
        "plt.figure(figsize=(10, 5))\n",
        "plt.plot(train_loss_history, label=\"Train loss\", color='blue')\n",
        "plt.plot(val_loss_history, label=\"Val loss\", color='orange')\n",
        "plt.title(\"Loss per Epoch (Avg per Sample)\")\n",
        "plt.xlabel(\"Epoch\")\n",
        "plt.ylabel(\"Average Loss\")\n",
        "plt.grid(True)\n",
        "plt.legend()\n",
        "plt.tight_layout()\n",
        "plt.show()"
      ],
      "metadata": {
        "id": "mDuVP9J6zl0T",
        "outputId": "982d7d09-e1fe-42cb-9a4e-19edde952ed8",
        "colab": {
          "base_uri": "https://localhost:8080/",
          "height": 507
        }
      },
      "id": "mDuVP9J6zl0T",
      "execution_count": 25,
      "outputs": [
        {
          "output_type": "display_data",
          "data": {
            "text/plain": [
              "<Figure size 1000x500 with 1 Axes>"
            ],
            "image/png": "[encoded data removed]"
          },
          "metadata": {}
        }
      ]
    }
  ],
  "metadata": {
    "colab": {
      "provenance": [],
      "include_colab_link": true
    },
    "language_info": {
      "name": "python"
    },
    "kernelspec": {
      "name": "python3",
      "display_name": "Python 3"
    }
  },
  "nbformat": 4,
  "nbformat_minor": 5
}