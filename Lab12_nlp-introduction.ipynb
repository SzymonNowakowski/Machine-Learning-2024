{
  "cells": [
    {
      "cell_type": "markdown",
      "metadata": {
        "id": "view-in-github",
        "colab_type": "text"
      },
      "source": [
        "<a href=\"https://colab.research.google.com/github/SzymonNowakowski/Machine-Learning-2024/blob/master/Lab12_nlp-introduction.ipynb\" target=\"_parent\"><img src=\"https://colab.research.google.com/assets/colab-badge.svg\" alt=\"Open In Colab\"/></a>"
      ]
    },
    {
      "cell_type": "markdown",
      "source": [
        "# Lab 12 - Natural Language Processing - Introduction\n",
        "\n",
        "### Author: Szymon Nowakowski\n"
      ],
      "metadata": {
        "id": "xl_-W_aXqjJ2"
      },
      "id": "xl_-W_aXqjJ2"
    },
    {
      "cell_type": "markdown",
      "source": [
        "# Introduction\n",
        "---------------\n"
      ],
      "metadata": {
        "id": "kzosqJ1czsY9"
      },
      "id": "kzosqJ1czsY9"
    },
    {
      "cell_type": "markdown",
      "source": [
        "# Google Crowdsource Sentiment Dataset\n",
        "-------------------------"
      ],
      "metadata": {
        "id": "G7rPtPD1zvCV"
      },
      "id": "G7rPtPD1zvCV"
    },
    {
      "cell_type": "code",
      "source": [
        "from datasets import load_dataset\n",
        "import pandas as pd\n",
        "\n",
        "# Load the GoEmotions dataset (by Google)\n",
        "dataset = load_dataset(\"go_emotions\")\n",
        "\n",
        "# Convert to binary sentiment (positive/neutral/negative)\n",
        "def map_to_sentiment(example):\n",
        "    positive = {1, 2, 3, 20, 26}  # joy, amusement, excitement, admiration, approval\n",
        "    negative = {4, 5, 6, 9, 11, 18, 24}  # anger, annoyance, disappointment, disgust, fear, sadness, disapproval\n",
        "    neutral = {0, 27}  # neutral, realization (as a proxy)\n",
        "\n",
        "    labels = set(example[\"labels\"])\n",
        "    if labels & positive:\n",
        "        return \"positive\"\n",
        "    elif labels & negative:\n",
        "        return \"negative\"\n",
        "    else:\n",
        "        return \"neutral\"\n",
        "\n",
        "# Apply sentiment mapping\n",
        "dataset = dataset[\"train\"].map(lambda x: {\"sentiment\": map_to_sentiment(x)})\n",
        "\n",
        "# Convert to DataFrame for easier use\n",
        "df = dataset.to_pandas()[[\"text\", \"sentiment\"]]\n",
        "print(df.sample(5))  # Show sample entries\n",
        "\n",
        "# Now df is ready to use in the rest of your pipeline\n"
      ],
      "metadata": {
        "id": "E8GmG8SAzsE6"
      },
      "id": "E8GmG8SAzsE6",
      "execution_count": null,
      "outputs": []
    }
  ],
  "metadata": {
    "colab": {
      "provenance": [],
      "include_colab_link": true
    },
    "language_info": {
      "name": "python"
    },
    "kernelspec": {
      "name": "python3",
      "display_name": "Python 3"
    }
  },
  "nbformat": 4,
  "nbformat_minor": 5
}