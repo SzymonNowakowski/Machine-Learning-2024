{
  "cells": [
    {
      "cell_type": "markdown",
      "metadata": {
        "id": "view-in-github",
        "colab_type": "text"
      },
      "source": [
        "<a href=\"https://colab.research.google.com/github/SzymonNowakowski/Machine-Learning-2024/blob/master/Lab12_nlp-introduction.ipynb\" target=\"_parent\"><img src=\"https://colab.research.google.com/assets/colab-badge.svg\" alt=\"Open In Colab\"/></a>"
      ]
    },
    {
      "cell_type": "markdown",
      "source": [
        "# Lab 12 - Natural Language Processing - Introduction\n",
        "\n",
        "### Author: Szymon Nowakowski\n"
      ],
      "metadata": {
        "id": "xl_-W_aXqjJ2"
      },
      "id": "xl_-W_aXqjJ2"
    },
    {
      "cell_type": "markdown",
      "source": [
        "# Introduction\n",
        "---------------\n",
        "In this class, we take our first steps into Natural Language Processing (NLP). We'll begin by averaging word embeddings to form sentence-level representations—a simple but effective baseline. **Attention** generalizes this idea by learning which words matter more in context, assigning dynamic weights instead of treating each word equally. In this sense, **attention can be thought of as a learned, weighted average**.\n",
        "\n",
        "This is our gateway into more advanced techniques. In the next class, we’ll study **self-attention**, the backbone of modern architectures like the Transformer. And if time permits, we may even explore the **full Transformer** model in our final class.\n",
        "\n",
        "I would like to express my gratitude to my colleague Przemysław Olbratowski for this elegant way of introducing attention, which I find both intuitive and pedagogically effective.\n"
      ],
      "metadata": {
        "id": "kzosqJ1czsY9"
      },
      "id": "kzosqJ1czsY9"
    },
    {
      "cell_type": "markdown",
      "source": [
        "### Yelp Reviews Polarity Dataset  \n",
        "--------------\n",
        "\n",
        "This dataset contains **over 560k full-text reviews** from Yelp, labeled for **binary sentiment**:  \n",
        "- **positive** (5-star reviews)  \n",
        "- **negative** (1-star reviews)  \n",
        "\n",
        "We will not use the full dataset, because it cannot be handled by Colab RAM. We will use short sequences with the word `but`.\n",
        "\n",
        "Each example is a **real user-generated review**, typically 2–5 sentences long, capturing clear and direct sentiment in natural language.  \n",
        "There are no ambiguous or neutral labels, making this dataset ideal for training and evaluating **binary sentiment classifiers**.\n",
        "\n",
        "The dataset was curated and released as part of the **FastText** and **Text Classification Benchmarks** by researchers at Facebook AI. It is widely used for benchmarking sentiment models in both academia and industry.\n"
      ],
      "metadata": {
        "id": "G7rPtPD1zvCV"
      },
      "id": "G7rPtPD1zvCV"
    },
    {
      "cell_type": "code",
      "source": [
        "!pip install datasets"
      ],
      "metadata": {
        "colab": {
          "base_uri": "https://localhost:8080/"
        },
        "id": "yVUhR__7NByz",
        "outputId": "c799d996-7e95-40bd-de15-1482846d55f6"
      },
      "id": "yVUhR__7NByz",
      "execution_count": 1,
      "outputs": [
        {
          "output_type": "stream",
          "name": "stdout",
          "text": [
            "Requirement already satisfied: datasets in /usr/local/lib/python3.11/dist-packages (3.5.1)\n",
            "Requirement already satisfied: filelock in /usr/local/lib/python3.11/dist-packages (from datasets) (3.18.0)\n",
            "Requirement already satisfied: numpy>=1.17 in /usr/local/lib/python3.11/dist-packages (from datasets) (2.0.2)\n",
            "Requirement already satisfied: pyarrow>=15.0.0 in /usr/local/lib/python3.11/dist-packages (from datasets) (18.1.0)\n",
            "Requirement already satisfied: dill<0.3.9,>=0.3.0 in /usr/local/lib/python3.11/dist-packages (from datasets) (0.3.8)\n",
            "Requirement already satisfied: pandas in /usr/local/lib/python3.11/dist-packages (from datasets) (2.2.2)\n",
            "Requirement already satisfied: requests>=2.32.2 in /usr/local/lib/python3.11/dist-packages (from datasets) (2.32.3)\n",
            "Requirement already satisfied: tqdm>=4.66.3 in /usr/local/lib/python3.11/dist-packages (from datasets) (4.67.1)\n",
            "Requirement already satisfied: xxhash in /usr/local/lib/python3.11/dist-packages (from datasets) (3.5.0)\n",
            "Requirement already satisfied: multiprocess<0.70.17 in /usr/local/lib/python3.11/dist-packages (from datasets) (0.70.16)\n",
            "Requirement already satisfied: fsspec<=2025.3.0,>=2023.1.0 in /usr/local/lib/python3.11/dist-packages (from fsspec[http]<=2025.3.0,>=2023.1.0->datasets) (2025.3.0)\n",
            "Requirement already satisfied: aiohttp in /usr/local/lib/python3.11/dist-packages (from datasets) (3.11.15)\n",
            "Requirement already satisfied: huggingface-hub>=0.24.0 in /usr/local/lib/python3.11/dist-packages (from datasets) (0.30.2)\n",
            "Requirement already satisfied: packaging in /usr/local/lib/python3.11/dist-packages (from datasets) (24.2)\n",
            "Requirement already satisfied: pyyaml>=5.1 in /usr/local/lib/python3.11/dist-packages (from datasets) (6.0.2)\n",
            "Requirement already satisfied: aiohappyeyeballs>=2.3.0 in /usr/local/lib/python3.11/dist-packages (from aiohttp->datasets) (2.6.1)\n",
            "Requirement already satisfied: aiosignal>=1.1.2 in /usr/local/lib/python3.11/dist-packages (from aiohttp->datasets) (1.3.2)\n",
            "Requirement already satisfied: attrs>=17.3.0 in /usr/local/lib/python3.11/dist-packages (from aiohttp->datasets) (25.3.0)\n",
            "Requirement already satisfied: frozenlist>=1.1.1 in /usr/local/lib/python3.11/dist-packages (from aiohttp->datasets) (1.6.0)\n",
            "Requirement already satisfied: multidict<7.0,>=4.5 in /usr/local/lib/python3.11/dist-packages (from aiohttp->datasets) (6.4.3)\n",
            "Requirement already satisfied: propcache>=0.2.0 in /usr/local/lib/python3.11/dist-packages (from aiohttp->datasets) (0.3.1)\n",
            "Requirement already satisfied: yarl<2.0,>=1.17.0 in /usr/local/lib/python3.11/dist-packages (from aiohttp->datasets) (1.20.0)\n",
            "Requirement already satisfied: typing-extensions>=3.7.4.3 in /usr/local/lib/python3.11/dist-packages (from huggingface-hub>=0.24.0->datasets) (4.13.2)\n",
            "Requirement already satisfied: charset-normalizer<4,>=2 in /usr/local/lib/python3.11/dist-packages (from requests>=2.32.2->datasets) (3.4.1)\n",
            "Requirement already satisfied: idna<4,>=2.5 in /usr/local/lib/python3.11/dist-packages (from requests>=2.32.2->datasets) (3.10)\n",
            "Requirement already satisfied: urllib3<3,>=1.21.1 in /usr/local/lib/python3.11/dist-packages (from requests>=2.32.2->datasets) (2.4.0)\n",
            "Requirement already satisfied: certifi>=2017.4.17 in /usr/local/lib/python3.11/dist-packages (from requests>=2.32.2->datasets) (2025.4.26)\n",
            "Requirement already satisfied: python-dateutil>=2.8.2 in /usr/local/lib/python3.11/dist-packages (from pandas->datasets) (2.9.0.post0)\n",
            "Requirement already satisfied: pytz>=2020.1 in /usr/local/lib/python3.11/dist-packages (from pandas->datasets) (2025.2)\n",
            "Requirement already satisfied: tzdata>=2022.7 in /usr/local/lib/python3.11/dist-packages (from pandas->datasets) (2025.2)\n",
            "Requirement already satisfied: six>=1.5 in /usr/local/lib/python3.11/dist-packages (from python-dateutil>=2.8.2->pandas->datasets) (1.17.0)\n"
          ]
        }
      ]
    },
    {
      "cell_type": "code",
      "source": [
        "from datasets import load_dataset\n",
        "import collections\n",
        "import re                             # Regular Expressions: for text searching and cleaning\n",
        "\n",
        "MAX_LEN = 64\n",
        "pattern = re.compile(r\"\\bbut\\b\", flags=re.IGNORECASE)\n",
        "\n",
        "# Load dataset\n",
        "raw = load_dataset(\"yelp_polarity\")\n",
        "\n",
        "# Define fast batch filter function\n",
        "def batch_filter(batch):\n",
        "    return [\n",
        "        bool(pattern.search(text)) and len(text.split()) <= MAX_LEN\n",
        "        for text in batch[\"text\"]\n",
        "    ]\n",
        "\n",
        "# Filter with batching\n",
        "train_raw = raw[\"train\"].filter(batch_filter, batched=True, batch_size=1000)\n",
        "test_raw  = raw[\"test\"].filter(batch_filter, batched=True, batch_size=1000)\n",
        "\n",
        "# Extract plain Python lists for text and labels\n",
        "def to_lists(dataset):\n",
        "    texts = []\n",
        "    labels = []\n",
        "    for example in dataset:\n",
        "        texts.append(example[\"text\"])\n",
        "        labels.append(example[\"label\"])\n",
        "    return texts, labels\n",
        "\n",
        "train_texts, train_labels = to_lists(train_raw)\n",
        "test_texts, test_labels   = to_lists(test_raw)\n",
        "\n",
        "# Split test set into val/test\n",
        "from sklearn.model_selection import train_test_split\n",
        "val_texts, test_texts, val_labels, test_labels = train_test_split(\n",
        "    test_texts, test_labels, test_size=0.5, random_state=42\n",
        ")\n",
        "\n",
        "# Show class counts\n",
        "def print_distribution(name, labels):\n",
        "    c = collections.Counter(labels)\n",
        "    total = sum(c.values())\n",
        "    print(f\"\\n{name} distribution:\")\n",
        "    for label in sorted(c.keys()):\n",
        "        print(f\"  {label}: {c[label]} ({c[label]/total:.2%})\")\n",
        "\n",
        "print_distribution(\"Train\", train_labels)\n",
        "print_distribution(\"Validation\", val_labels)\n",
        "print_distribution(\"Test\", test_labels)\n"
      ],
      "metadata": {
        "id": "E8GmG8SAzsE6",
        "colab": {
          "base_uri": "https://localhost:8080/"
        },
        "outputId": "648ab7ff-37f2-4f86-c285-c55c702770c0"
      },
      "id": "E8GmG8SAzsE6",
      "execution_count": 2,
      "outputs": [
        {
          "output_type": "stream",
          "name": "stderr",
          "text": [
            "/usr/local/lib/python3.11/dist-packages/huggingface_hub/utils/_auth.py:94: UserWarning: \n",
            "The secret `HF_TOKEN` does not exist in your Colab secrets.\n",
            "To authenticate with the Hugging Face Hub, create a token in your settings tab (https://huggingface.co/settings/tokens), set it as secret in your Google Colab and restart your session.\n",
            "You will be able to reuse this secret in all of your notebooks.\n",
            "Please note that authentication is recommended but still optional to access public models or datasets.\n",
            "  warnings.warn(\n"
          ]
        },
        {
          "output_type": "stream",
          "name": "stdout",
          "text": [
            "\n",
            "Train distribution:\n",
            "  0: 22172 (48.48%)\n",
            "  1: 23560 (51.52%)\n",
            "\n",
            "Validation distribution:\n",
            "  0: 756 (48.00%)\n",
            "  1: 819 (52.00%)\n",
            "\n",
            "Test distribution:\n",
            "  0: 755 (47.94%)\n",
            "  1: 820 (52.06%)\n"
          ]
        }
      ]
    },
    {
      "cell_type": "markdown",
      "source": [
        "## Some examples"
      ],
      "metadata": {
        "id": "oH3nWRZnNAxB"
      },
      "id": "oH3nWRZnNAxB"
    },
    {
      "cell_type": "code",
      "source": [
        "label_map = {0: \"negative\", 1: \"positive\"}\n",
        "\n",
        "for i in range(10):\n",
        "    print(f\"[{label_map[train_labels[i]]}] {train_texts[i]}\\n\")"
      ],
      "metadata": {
        "id": "2swC8sM0ND49",
        "colab": {
          "base_uri": "https://localhost:8080/"
        },
        "outputId": "7b36bb4e-b3d6-4d54-8ab4-a9cb7354fb2c"
      },
      "id": "2swC8sM0ND49",
      "execution_count": 3,
      "outputs": [
        {
          "output_type": "stream",
          "name": "stdout",
          "text": [
            "[negative] Wing sauce is like water. Pretty much a lot of butter and some hot sauce (franks red hot maybe).  The whole wings are good size and crispy, but for $1 a wing the sauce could be better. The hot and extra hot are about the same flavor/heat.  The fish sandwich is good and is a large portion, sides are decent.\n",
            "\n",
            "[positive] Italian dinners, American, endless soup and salad bar is great. Most food for your dollar. I highly recommend. Great bar. Good place to watch a game. The bar can get quite noisy in the evenings, but it adds to the great atmosphere at Rocky's\n",
            "\n",
            "[positive] Definitely a greasy spoon! Always packed here and always a wait but worth it. The omelets are really tastey especially with their homemade sausage. I also like the mixed grill.  My parents love their burgers. Took off a star for lumpy booths and really tight tables (your arm gets hit when someone walks past) oh and waitresses aren't very attentive.\n",
            "\n",
            "[positive] Went for breakfast on 6/16/14. We received very good service and meal came within a few minutes.Waitress could have smiled more but was friendly. \\nI had a Grand Slam... it was more than enough food. \\nMeal was very tasty... We will definitely go back. \\nIt is a popular Denny's.\n",
            "\n",
            "[positive] Great little gem! The food was fantastic was very food and just the right price. The Italian food was amazing, but you can not leave without a dessert and be prepared for giant serving. I had the carrot cake yummy!! Def a place everyone should try.\n",
            "\n",
            "[negative] Papa J's is expensive and inconsistent.  The ambiance is nice but it doesn't justify the prices.  There are better restaurants in Carnegie.\n",
            "\n",
            "[negative] If there was ever a \\\"\"get your coffee and go\\\"\" Starbucks, this is it. Right in the center of the Waterfront, this Starbucks has no sofa, comfy chairs, only table seating. I love the baristas here, But I don't like the location of the building.\n",
            "\n",
            "[positive] The food is good and its CHEAP.\\n\\nI mean REALLY INEXPENSIVE.\\n\\n$4.00 for a burger and fries. Add a coke and its like $10.00-$13.00 for two people.  Seldom if ever crowded. \\n\\nService can be a tad slow but hit or miss.\\n\\nThey also do breakfast and its a great alternative to waiting at eat and park.\\n\\nTry the shakes, they're great.\n",
            "\n",
            "[negative] Well... as Steak 'n Shake locations go, this isn't the best one around--but it is burgers and fries that are open 24-7.\\n\\nThe milkshakes are good!\\n\\nPROS: \\nAlways made fresh, when you order;\\n\\nCONS:\\nGreasy (but its burgers);\\nTakes longer than typical in drive thru (but that's bc they're made fresh!);\\nService (on a scale of 1-10, 10 being awesome) is a 4.\n",
            "\n",
            "[negative] Food is good, what you'd expect from Steak n Shake. THE SERVICE IS AWFUL. so incredibly awful. expect to take at least an hour for your meal, even when it's slow. I've been going here for years when I want a cheap meal, but the service is so so so awful. Go to McDonalds.\n",
            "\n"
          ]
        }
      ]
    },
    {
      "cell_type": "markdown",
      "source": [
        "# Tokenizer\n",
        "-------------------\n",
        "\n",
        "To feed text into a neural network, we need to represent words in a \"neural-network-ish\" way — that is, as numbers. The standard approach is to use a tokenizer, often from a pretrained model. However, since we plan to experiment with our own attention modules later on, **we’ll avoid using any pretrained tokenizer**.\n",
        "\n",
        "Instead, we’ll go with a simple, word-based tokenization. As part of this, we’ll clean the text by removing any non-standard HTML tags, digits, extra whitespace, and punctuation. We’ll also convert all words to lowercase to ensure consistency."
      ],
      "metadata": {
        "id": "T07SvDTYV6nO"
      },
      "id": "T07SvDTYV6nO"
    },
    {
      "cell_type": "markdown",
      "source": [
        "## Special Tokens: `<PAD>` and `<UNK>`\n",
        "\n",
        "In our text preprocessing pipeline, we convert each word to a number using a vocabulary. Two special tokens help us handle padding and unknown words.\n"
      ],
      "metadata": {
        "id": "IyT2bcscZu4P"
      },
      "id": "IyT2bcscZu4P"
    },
    {
      "cell_type": "markdown",
      "source": [
        "\n",
        "\n",
        "### `<PAD>` — Padding Token\n",
        "\n",
        "- Represents empty slots when we need all input sequences to be the same length.\n",
        "- Assigned index `0`.\n",
        "- Used so that batches of sentences can be processed together by the model.\n",
        "\n",
        "*For example:*\n",
        "\n",
        "Original: `[17, 5, 23]`  \n",
        "Padded:   `[17, 5, 23, 0, 0]` (for a fixed length of 5)"
      ],
      "metadata": {
        "id": "Ha9i37gvaBUn"
      },
      "id": "Ha9i37gvaBUn"
    },
    {
      "cell_type": "markdown",
      "source": [
        "\n",
        "\n",
        "\n",
        "### `<UNK>` — Unknown Token\n",
        "\n",
        "- Represents any word that is **not in the vocabulary**.\n",
        "- Assigned index `1`.\n",
        "- Occurs when:\n",
        "  1. A word was **too rare in the training data** (appeared only once and was excluded from the vocabulary).\n",
        "  2. A word appears **only in validation or test data**.\n",
        "\n",
        "> In our setup, we **excluded all words that appear only once** in the training set.  \n",
        "> So even in the training data, some tokens are replaced with `<UNK>`.  \n",
        "> These are called **rare unknowns** — they help the model learn how to handle unusual or unfamiliar words.\n",
        "\n",
        "\n",
        "By including `<UNK>` during training, we teach the model how to deal with unseen or rare words at test time — which is **crucial for generalization**.\n"
      ],
      "metadata": {
        "id": "3Rymjwd6ZsoK"
      },
      "id": "3Rymjwd6ZsoK"
    },
    {
      "cell_type": "code",
      "source": [
        "\n",
        "\n",
        "def tokenize(text):\n",
        "    text = text.lower()\n",
        "    text = re.sub(r'<[^>]+>', ' ', text)\n",
        "    text = re.sub(r'[^a-z\\s]', ' ', text)\n",
        "    text = re.sub(r'\\s+', ' ', text).strip()\n",
        "    return text.split()\n",
        "\n",
        "def build_vocab(token_lists, min_freq=2):\n",
        "    counter = collections.Counter(token for tokens in token_lists for token in tokens)\n",
        "    vocab = {\n",
        "        token: idx + 2  # reserve 0: <PAD>, 1: <UNK>\n",
        "        for idx, (token, count) in enumerate(counter.items())\n",
        "        if count >= min_freq\n",
        "    }\n",
        "    vocab['<PAD>'] = 0\n",
        "    vocab['<UNK>'] = 1\n",
        "    return vocab\n",
        "\n",
        "def tokens_to_ids(tokens, vocab):\n",
        "    return [vocab.get(tok, vocab['<UNK>']) for tok in tokens]   #for unknown tokens return vocab['<UNK>'] (which is == 1)\n",
        "\n",
        "def pad(seq, max_len=128, pad_value=0):\n",
        "    return seq + [pad_value] * (max_len - len(seq)) if len(seq) < max_len else seq[:max_len]\n",
        "\n",
        "def process_texts(texts, vocab, max_len=128):\n",
        "    return [pad(tokens_to_ids(tokenize(text), vocab), max_len) for text in texts]\n",
        "\n",
        "\n",
        "# Tokenize training set and build vocab\n",
        "train_tokens = [tokenize(t) for t in train_texts]\n",
        "vocab = build_vocab(train_tokens)\n",
        "\n",
        "# Process splits into padded input_ids\n",
        "train_ids = process_texts(train_texts, vocab, MAX_LEN)\n",
        "val_ids   = process_texts(val_texts, vocab, MAX_LEN)\n",
        "test_ids  = process_texts(test_texts, vocab, MAX_LEN)\n",
        "\n",
        "# Print 5 real examples: raw text, tokenized, and input IDs\n",
        "shown = 0\n",
        "for i in range(len(train_texts)):\n",
        "    if 1 in train_ids[i][:5]:  # 1 is <UNK>\n",
        "        print(f\"Original:   {train_texts[i]}\")\n",
        "        print(f\"Tokenized:  {train_tokens[i]}\")\n",
        "        print(f\"Input IDs:  {train_ids[i]}\\n\")\n",
        "        shown += 1\n",
        "        if shown >= 5:\n",
        "            break\n",
        "\n",
        "\n",
        "\n"
      ],
      "metadata": {
        "id": "bNJLBhifYFhO",
        "colab": {
          "base_uri": "https://localhost:8080/"
        },
        "outputId": "f53d0da9-2206-4223-c725-c218f54b10af"
      },
      "id": "bNJLBhifYFhO",
      "execution_count": 4,
      "outputs": [
        {
          "output_type": "stream",
          "name": "stdout",
          "text": [
            "Original:   Wham! 4 stars outta the park! The deep-dish pizza we had was amazing. I wasn't crazy about the avocado egg rolls, but the chocolate chip sundae was superb. Great service too from Maranda, a doll. Decor is cute. Ambience is lively. Recommended.\n",
            "Tokenized:  ['wham', 'stars', 'outta', 'the', 'park', 'the', 'deep', 'dish', 'pizza', 'we', 'had', 'was', 'amazing', 'i', 'wasn', 't', 'crazy', 'about', 'the', 'avocado', 'egg', 'rolls', 'but', 'the', 'chocolate', 'chip', 'sundae', 'was', 'superb', 'great', 'service', 'too', 'from', 'maranda', 'a', 'doll', 'decor', 'is', 'cute', 'ambience', 'is', 'lively', 'recommended']\n",
            "Input IDs:  [1, 478, 479, 19, 223, 19, 480, 481, 417, 119, 134, 131, 153, 54, 482, 113, 483, 32, 19, 484, 485, 486, 26, 19, 394, 487, 488, 131, 489, 49, 121, 441, 260, 1, 9, 491, 492, 4, 493, 494, 4, 495, 496, 0, 0, 0, 0, 0, 0, 0, 0, 0, 0, 0, 0, 0, 0, 0, 0, 0, 0, 0, 0, 0]\n",
            "\n",
            "Original:   Enjoyed the winter solstice concert Saturday night. Fun scene, cover benefited charity, drinks were decent (nothing spectacular), but the grilled cheeses moved this review from a three to four star rating. Fun night, cool spot. Will go back!\n",
            "Tokenized:  ['enjoyed', 'the', 'winter', 'solstice', 'concert', 'saturday', 'night', 'fun', 'scene', 'cover', 'benefited', 'charity', 'drinks', 'were', 'decent', 'nothing', 'spectacular', 'but', 'the', 'grilled', 'cheeses', 'moved', 'this', 'review', 'from', 'a', 'three', 'to', 'four', 'star', 'rating', 'fun', 'night', 'cool', 'spot', 'will', 'go', 'back']\n",
            "Input IDs:  [711, 19, 712, 1, 714, 715, 716, 333, 717, 718, 1, 720, 510, 355, 41, 362, 721, 26, 19, 722, 723, 724, 185, 725, 260, 9, 726, 58, 727, 98, 728, 333, 716, 729, 706, 141, 142, 143, 0, 0, 0, 0, 0, 0, 0, 0, 0, 0, 0, 0, 0, 0, 0, 0, 0, 0, 0, 0, 0, 0, 0, 0, 0, 0]\n",
            "\n",
            "Original:   This is a gret place to go if you like Martini's!  The food is pretty good and the decor is awesome!  There are always some randoms bartending and you're never sure if you'll get a hipster or old mother Hubbard, but they always serve great drinks!\n",
            "Tokenized:  ['this', 'is', 'a', 'gret', 'place', 'to', 'go', 'if', 'you', 'like', 'martini', 's', 'the', 'food', 'is', 'pretty', 'good', 'and', 'the', 'decor', 'is', 'awesome', 'there', 'are', 'always', 'some', 'randoms', 'bartending', 'and', 'you', 're', 'never', 'sure', 'if', 'you', 'll', 'get', 'a', 'hipster', 'or', 'old', 'mother', 'hubbard', 'but', 'they', 'always', 'serve', 'great', 'drinks']\n",
            "Input IDs:  [185, 4, 9, 1, 57, 58, 142, 181, 154, 5, 1432, 72, 19, 51, 4, 7, 23, 13, 19, 492, 4, 256, 178, 22, 76, 14, 1, 1434, 13, 154, 227, 419, 585, 181, 154, 874, 62, 9, 1435, 216, 1232, 1436, 1, 26, 226, 76, 506, 49, 510, 0, 0, 0, 0, 0, 0, 0, 0, 0, 0, 0, 0, 0, 0, 0]\n",
            "\n",
            "Original:   I had the famous Pitts-Burger and it was disgusting! The only reason I'm giving it two stars is because of the bread. The bread is super soft and tasty but the meat was gross and the cole slaw was bitter. I don't see what the hype is all about!\n",
            "Tokenized:  ['i', 'had', 'the', 'famous', 'pitts', 'burger', 'and', 'it', 'was', 'disgusting', 'the', 'only', 'reason', 'i', 'm', 'giving', 'it', 'two', 'stars', 'is', 'because', 'of', 'the', 'bread', 'the', 'bread', 'is', 'super', 'soft', 'and', 'tasty', 'but', 'the', 'meat', 'was', 'gross', 'and', 'the', 'cole', 'slaw', 'was', 'bitter', 'i', 'don', 't', 'see', 'what', 'the', 'hype', 'is', 'all', 'about']\n",
            "Input IDs:  [54, 134, 19, 1556, 1, 205, 13, 67, 131, 1568, 19, 193, 544, 54, 319, 858, 67, 209, 478, 4, 286, 11, 19, 986, 19, 986, 4, 383, 1254, 13, 140, 26, 19, 1112, 131, 1569, 13, 19, 1513, 1268, 131, 1570, 54, 197, 113, 705, 257, 19, 1571, 4, 373, 32, 0, 0, 0, 0, 0, 0, 0, 0, 0, 0, 0, 0]\n",
            "\n",
            "Original:   Meh. \\n\\nClam chowder was big and OK.  Veggie sandwich had great,  greasy, grilled Mancini bread but came with soggy fries and was mediocre overall. \\n\\nOur waitress told us she was new at least 20 times so she wasn't much help in recommending any dishes. \\n\\nI probably won't go back again.  For $25 a person,  I can do better elsewhere \\n.\n",
            "Tokenized:  ['meh', 'n', 'nclam', 'chowder', 'was', 'big', 'and', 'ok', 'veggie', 'sandwich', 'had', 'great', 'greasy', 'grilled', 'mancini', 'bread', 'but', 'came', 'with', 'soggy', 'fries', 'and', 'was', 'mediocre', 'overall', 'n', 'nour', 'waitress', 'told', 'us', 'she', 'was', 'new', 'at', 'least', 'times', 'so', 'she', 'wasn', 't', 'much', 'help', 'in', 'recommending', 'any', 'dishes', 'n', 'ni', 'probably', 'won', 't', 'go', 'back', 'again', 'for', 'a', 'person', 'i', 'can', 'do', 'better', 'elsewhere', 'n']\n",
            "Input IDs:  [1617, 202, 1, 1619, 131, 614, 13, 454, 1252, 37, 134, 49, 74, 722, 530, 986, 26, 123, 85, 1111, 206, 13, 131, 525, 524, 202, 1620, 127, 1555, 507, 290, 131, 327, 70, 265, 527, 262, 290, 482, 113, 8, 1339, 65, 1621, 428, 983, 202, 133, 397, 900, 113, 142, 143, 380, 27, 9, 554, 54, 61, 219, 30, 1622, 202, 0]\n",
            "\n"
          ]
        }
      ]
    },
    {
      "cell_type": "markdown",
      "source": [
        "## Notice!\n",
        "\n",
        "Notice that the `<UNK>` token (coded as 1) is visible in the rows above. Also, there is an abundance of `<PAD>` tokens (coded as 0)."
      ],
      "metadata": {
        "id": "cSDc_W9S89ZU"
      },
      "id": "cSDc_W9S89ZU"
    },
    {
      "cell_type": "markdown",
      "source": [
        "# Prepare Data Loaders\n",
        "--------------------\n",
        "\n",
        "We must transform the pandas dataframe to the dataset - it will, among other things, separate input data and labels and then wrap it in a dataloder."
      ],
      "metadata": {
        "id": "XDLaOuwegNXu"
      },
      "id": "XDLaOuwegNXu"
    },
    {
      "cell_type": "markdown",
      "source": [],
      "metadata": {
        "id": "SoiJPpApJe9L"
      },
      "id": "SoiJPpApJe9L"
    },
    {
      "cell_type": "code",
      "source": [
        "import torch\n",
        "\n",
        "BATCH_SIZE = 1024\n",
        "\n",
        "torch.manual_seed(42)\n",
        "torch.cuda.manual_seed(42)\n",
        "torch.cuda.manual_seed_all(42)\n",
        "\n",
        "# Convert all to tensors\n",
        "def to_loader(input_ids, labels, batch_size=1024, shuffle=False):\n",
        "    x_tensor = torch.tensor(input_ids, dtype=torch.long)\n",
        "    y_tensor = torch.tensor(labels, dtype=torch.long)\n",
        "    return torch.utils.data.DataLoader(torch.utils.data.TensorDataset(x_tensor, y_tensor), batch_size=batch_size, shuffle=shuffle)\n",
        "\n",
        "train_loader = to_loader(train_ids, train_labels, BATCH_SIZE, shuffle=True)\n",
        "val_loader   = to_loader(val_ids, val_labels, BATCH_SIZE)\n",
        "test_loader  = to_loader(test_ids, test_labels, BATCH_SIZE)\n"
      ],
      "metadata": {
        "id": "432ev7Jxg9Fw"
      },
      "id": "432ev7Jxg9Fw",
      "execution_count": 5,
      "outputs": []
    },
    {
      "cell_type": "markdown",
      "source": [
        "# Training Loop as We Already Got to Know It Well\n",
        "----------------"
      ],
      "metadata": {
        "id": "bOD1hweknD7z"
      },
      "id": "bOD1hweknD7z"
    },
    {
      "cell_type": "markdown",
      "source": [
        "## Train Loop Function"
      ],
      "metadata": {
        "id": "7kZDRRGS-yMI"
      },
      "id": "7kZDRRGS-yMI"
    },
    {
      "cell_type": "code",
      "source": [
        "import time\n",
        "import torch\n",
        "import torch.nn.functional as F\n",
        "\n",
        "device = torch.device(\"cuda\" if torch.cuda.is_available() else \"cpu\")\n",
        "print(f\"Working on {device}\")\n",
        "\n",
        "def train_model(net, train_loader, val_loader, epochs=1000, lr=0.001, log_every=10):\n",
        "    print(f\"Working on {device}\")\n",
        "    net = net.to(device)\n",
        "    optimizer = torch.optim.Adam(net.parameters(), lr=lr)\n",
        "    criterion = torch.nn.BCEWithLogitsLoss()\n",
        "\n",
        "    train_loss_history = []\n",
        "    val_loss_history = []\n",
        "    train_acc_history = []\n",
        "    val_acc_history = []\n",
        "\n",
        "    start_time = time.time()\n",
        "\n",
        "    for epoch in range(epochs):\n",
        "        net.train()\n",
        "        train_loss_sum = 0.0\n",
        "        train_correct = 0\n",
        "        train_total = 0\n",
        "\n",
        "        for batch_inputs, batch_labels in train_loader:\n",
        "            batch_inputs = batch_inputs.to(device)\n",
        "            batch_labels = batch_labels.to(device).float()  # shape: (batch_size)\n",
        "\n",
        "            optimizer.zero_grad()\n",
        "            logits = net(batch_inputs)  # logits shape: (batch_size, 1)\n",
        "            loss = criterion(logits, batch_labels)\n",
        "            loss.backward()\n",
        "            optimizer.step()\n",
        "\n",
        "            train_loss_sum += loss.item() * batch_inputs.size(0)\n",
        "            preds = (torch.sigmoid(logits) > 0.5).float()\n",
        "            train_correct += (preds == batch_labels).sum().item()\n",
        "            train_total += batch_inputs.size(0)\n",
        "\n",
        "        avg_train_loss = train_loss_sum / train_total\n",
        "        train_acc = train_correct / train_total\n",
        "        train_loss_history.append(avg_train_loss)\n",
        "        train_acc_history.append(train_acc)\n",
        "\n",
        "        # === Validation ===\n",
        "        net.eval()\n",
        "        val_loss_sum = 0.0\n",
        "        val_correct = 0\n",
        "        val_total = 0\n",
        "\n",
        "        with torch.no_grad():\n",
        "            for batch_inputs, batch_labels in val_loader:\n",
        "                batch_inputs = batch_inputs.to(device)\n",
        "                batch_labels = batch_labels.to(device).float()\n",
        "\n",
        "                logits = net(batch_inputs)\n",
        "                loss = criterion(logits, batch_labels)\n",
        "\n",
        "                val_loss_sum += loss.item() * batch_inputs.size(0)\n",
        "                preds = (torch.sigmoid(logits) > 0.5).float()\n",
        "                val_correct += (preds == batch_labels).sum().item()\n",
        "                val_total += batch_inputs.size(0)\n",
        "\n",
        "        avg_val_loss = val_loss_sum / val_total\n",
        "        val_acc = val_correct / val_total\n",
        "        val_loss_history.append(avg_val_loss)\n",
        "        val_acc_history.append(val_acc)\n",
        "\n",
        "        if epoch % log_every == 0:\n",
        "            print(f\"Epoch {epoch:03d} | \"\n",
        "                  f\"Train Loss: {avg_train_loss:.4f}, Acc: {train_acc:.4f} | \"\n",
        "                  f\"Val Loss: {avg_val_loss:.4f}, Acc: {val_acc:.4f}\")\n",
        "\n",
        "    end_time = time.time()\n",
        "    print(f\"Elapsed time: {end_time - start_time:.2f} seconds\")\n",
        "\n",
        "    return train_loss_history, val_loss_history, train_acc_history, val_acc_history"
      ],
      "metadata": {
        "id": "HCA6aXtlnH6J",
        "colab": {
          "base_uri": "https://localhost:8080/"
        },
        "outputId": "3d87ba3f-3e1b-4047-c7cb-12e0454624aa"
      },
      "id": "HCA6aXtlnH6J",
      "execution_count": 6,
      "outputs": [
        {
          "output_type": "stream",
          "name": "stdout",
          "text": [
            "Working on cpu\n"
          ]
        }
      ]
    },
    {
      "cell_type": "markdown",
      "source": [
        "## Plot Function"
      ],
      "metadata": {
        "id": "-P8_EMUj-tnp"
      },
      "id": "-P8_EMUj-tnp"
    },
    {
      "cell_type": "code",
      "source": [
        "import matplotlib.pyplot as plt\n",
        "\n",
        "def plot_training_curves(train_loss, val_loss, train_acc, val_acc):\n",
        "    fig, axs = plt.subplots(1, 2, figsize=(14, 5))\n",
        "\n",
        "    # Plot Loss\n",
        "    axs[0].plot(train_loss, label=\"Train Loss\", color='blue')\n",
        "    axs[0].plot(val_loss, label=\"Val Loss\", color='orange')\n",
        "    axs[0].set_title(\"Loss per Epoch\")\n",
        "    axs[0].set_xlabel(\"Epoch\")\n",
        "    axs[0].set_ylabel(\"Average Loss\")\n",
        "    axs[0].grid(True)\n",
        "    axs[0].legend()\n",
        "\n",
        "    # Plot Accuracy\n",
        "    axs[1].plot(train_acc, label=\"Train Accuracy\", color='green')\n",
        "    axs[1].plot(val_acc, label=\"Val Accuracy\", color='red')\n",
        "    axs[1].set_title(\"Accuracy per Epoch\")\n",
        "    axs[1].set_xlabel(\"Epoch\")\n",
        "    axs[1].set_ylabel(\"Accuracy\")\n",
        "    axs[1].grid(True)\n",
        "    axs[1].legend()\n",
        "\n",
        "    plt.tight_layout()\n",
        "    plt.show()"
      ],
      "metadata": {
        "id": "mDuVP9J6zl0T"
      },
      "id": "mDuVP9J6zl0T",
      "execution_count": 7,
      "outputs": []
    },
    {
      "cell_type": "markdown",
      "source": [
        "# Simple 1 Feature Aproach\n",
        "\n",
        "Before we proceed with 16-feature network, let's try to go simpler, for a moment. Let's consider a single feature."
      ],
      "metadata": {
        "id": "_GUYSKp3HlRK"
      },
      "id": "_GUYSKp3HlRK"
    },
    {
      "cell_type": "code",
      "source": [
        "feature_cnt = 1\n",
        "vocab_len = max(vocab.values()) + 1   # maximal value (index) of a token\n",
        "\n",
        "class Net_1(torch.nn.Module):\n",
        "    def __init__(self):\n",
        "        super().__init__()\n",
        "        self.embedding = torch.nn.Embedding(vocab_len, feature_cnt)\n",
        "        self.classifier = torch.nn.Linear(feature_cnt, 1)\n",
        "    def forward(self, index):                        #batch, words\n",
        "        features = self.embedding(index)             #batch, words, features\n",
        "        features = features.mean(-2)                 #batch, features\n",
        "        classifications = self.classifier(features)  #batch, 1\n",
        "        logits = classifications.squeeze(-1)         #batch\n",
        "        return logits\n",
        "\n",
        "net_1 = Net_1()\n",
        "\n",
        "# Execute training\n",
        "train_loss, val_loss, train_acc, val_acc = train_model(net_1, train_loader, val_loader, epochs = 240)\n",
        "plot_training_curves(train_loss, val_loss, train_acc, val_acc)"
      ],
      "metadata": {
        "id": "mNwmWLEuHrOD",
        "colab": {
          "base_uri": "https://localhost:8080/",
          "height": 774
        },
        "outputId": "71420160-ed50-4a69-8970-03fa079663bf"
      },
      "id": "mNwmWLEuHrOD",
      "execution_count": 8,
      "outputs": [
        {
          "output_type": "stream",
          "name": "stdout",
          "text": [
            "Working on cpu\n",
            "Epoch 000 | Train Loss: 0.8398, Acc: 0.5152 | Val Loss: 0.8245, Acc: 0.5200\n",
            "Epoch 010 | Train Loss: 0.7090, Acc: 0.5244 | Val Loss: 0.7061, Acc: 0.5308\n",
            "Epoch 020 | Train Loss: 0.6850, Acc: 0.5684 | Val Loss: 0.6846, Acc: 0.5663\n",
            "Epoch 030 | Train Loss: 0.6730, Acc: 0.6002 | Val Loss: 0.6728, Acc: 0.6006\n",
            "Epoch 040 | Train Loss: 0.6492, Acc: 0.6554 | Val Loss: 0.6482, Acc: 0.6489\n",
            "Epoch 050 | Train Loss: 0.5996, Acc: 0.7346 | Val Loss: 0.5978, Acc: 0.7365\n",
            "Epoch 060 | Train Loss: 0.5334, Acc: 0.8093 | Val Loss: 0.5326, Acc: 0.7981\n",
            "Epoch 070 | Train Loss: 0.4765, Acc: 0.8377 | Val Loss: 0.4778, Acc: 0.8203\n",
            "Epoch 080 | Train Loss: 0.4317, Acc: 0.8508 | Val Loss: 0.4351, Acc: 0.8381\n",
            "Epoch 090 | Train Loss: 0.3956, Acc: 0.8623 | Val Loss: 0.4012, Acc: 0.8476\n",
            "Epoch 100 | Train Loss: 0.3659, Acc: 0.8709 | Val Loss: 0.3738, Acc: 0.8616\n",
            "Epoch 110 | Train Loss: 0.3409, Acc: 0.8788 | Val Loss: 0.3511, Acc: 0.8737\n",
            "Epoch 120 | Train Loss: 0.3195, Acc: 0.8869 | Val Loss: 0.3323, Acc: 0.8743\n",
            "Epoch 130 | Train Loss: 0.3012, Acc: 0.8924 | Val Loss: 0.3165, Acc: 0.8806\n",
            "Epoch 140 | Train Loss: 0.2853, Acc: 0.8978 | Val Loss: 0.3033, Acc: 0.8819\n",
            "Epoch 150 | Train Loss: 0.2714, Acc: 0.9022 | Val Loss: 0.2922, Acc: 0.8857\n",
            "Epoch 160 | Train Loss: 0.2593, Acc: 0.9061 | Val Loss: 0.2828, Acc: 0.8876\n",
            "Epoch 170 | Train Loss: 0.2486, Acc: 0.9086 | Val Loss: 0.2748, Acc: 0.8902\n",
            "Epoch 180 | Train Loss: 0.2391, Acc: 0.9112 | Val Loss: 0.2681, Acc: 0.8914\n",
            "Epoch 190 | Train Loss: 0.2307, Acc: 0.9141 | Val Loss: 0.2625, Acc: 0.8933\n",
            "Elapsed time: 193.33 seconds\n"
          ]
        },
        {
          "output_type": "display_data",
          "data": {
            "text/plain": [
              "<Figure size 1400x500 with 2 Axes>"
            ],
            "image/png": "[encoded data removed]"
          },
          "metadata": {}
        }
      ]
    },
    {
      "cell_type": "markdown",
      "source": [
        "## Sentiment Polarity\n",
        "\n",
        "Since our embeddings have only 1 feature (`feature_cnt = 1`), each word is embedded to a scalar. We can interpret this scalar as a kind of sentiment polarity, especially since our model is trained for sentiment classification."
      ],
      "metadata": {
        "id": "mlg7DIdoXA_Y"
      },
      "id": "mlg7DIdoXA_Y"
    },
    {
      "cell_type": "code",
      "source": [
        "import numpy as np\n",
        "\n",
        "# Get the embedding weights as a NumPy array\n",
        "embedding_weights = net_1.embedding.weight.detach().cpu().numpy().squeeze()  # shape: (vocab_len,)\n",
        "\n",
        "# Reverse vocab dictionary to map indices back to words\n",
        "id2token = {idx: token for token, idx in vocab.items()}\n",
        "\n",
        "# Skip <PAD> and <UNK> tokens (indices 0 and 1)\n",
        "valid_indices = np.array([idx for idx in range(2, len(embedding_weights)) if idx in id2token])\n",
        "valid_embeddings = embedding_weights[valid_indices]\n",
        "\n",
        "# Sort and select indices\n",
        "sorted_pos = np.argsort(-valid_embeddings)\n",
        "sorted_neg = np.argsort(valid_embeddings)\n",
        "sorted_neutral = np.argsort(np.abs(valid_embeddings))\n",
        "\n",
        "top_pos_indices = valid_indices[sorted_pos[:20]]\n",
        "top_neg_indices = valid_indices[sorted_neg[:20]]\n",
        "top_neutral_indices = valid_indices[sorted_neutral[:20]]\n",
        "\n",
        "# Print words and corresponding embedding values\n",
        "def print_words_with_embeddings(indices, title):\n",
        "    print(f\"\\n{title}\")\n",
        "    for idx in indices:\n",
        "        word = id2token[int(idx)]\n",
        "        value = embedding_weights[int(idx)]\n",
        "        print(f\"{word:15} -> {value:.4f}\")\n",
        "\n",
        "print_words_with_embeddings(top_pos_indices, \"Top 20 most positive words:\")\n",
        "print_words_with_embeddings(top_neg_indices, \"Top 20 most negative words:\")\n",
        "print_words_with_embeddings(top_neutral_indices, \"Top 20 most neutral words:\")\n"
      ],
      "metadata": {
        "id": "zPijTrZEXvM4",
        "colab": {
          "base_uri": "https://localhost:8080/"
        },
        "outputId": "8849f2e6-ab77-470c-94aa-706116b9a14c"
      },
      "id": "zPijTrZEXvM4",
      "execution_count": 9,
      "outputs": [
        {
          "output_type": "stream",
          "name": "stdout",
          "text": [
            "\n",
            "Top 20 most positive words:\n",
            "amazing         -> 9.6901\n",
            "delish          -> 9.0397\n",
            "fantastic       -> 8.5435\n",
            "love            -> 8.4768\n",
            "excellent       -> 8.4276\n",
            "delicious       -> 8.2470\n",
            "die             -> 8.1793\n",
            "awesome         -> 8.1681\n",
            "ngreat          -> 8.1658\n",
            "affordable      -> 8.1517\n",
            "yummy           -> 8.1298\n",
            "perfectly       -> 8.0362\n",
            "yum             -> 8.0105\n",
            "perfection      -> 7.9605\n",
            "great           -> 7.9422\n",
            "perfect         -> 7.8530\n",
            "juicy           -> 7.8061\n",
            "solid           -> 7.7145\n",
            "loved           -> 7.6532\n",
            "wonderful       -> 7.6242\n",
            "\n",
            "Top 20 most negative words:\n",
            "bland           -> -9.5411\n",
            "poor            -> -9.4103\n",
            "meh             -> -8.8929\n",
            "horrible        -> -8.8287\n",
            "blah            -> -8.7701\n",
            "sucks           -> -8.7545\n",
            "dry             -> -8.5873\n",
            "pinch           -> -8.5013\n",
            "mediocre        -> -8.4750\n",
            "worst           -> -8.3179\n",
            "downhill        -> -8.2987\n",
            "flavorless      -> -8.2071\n",
            "garbage         -> -8.0472\n",
            "rude            -> -7.9831\n",
            "below           -> -7.9652\n",
            "tasteless       -> -7.9566\n",
            "unimpressed     -> -7.9312\n",
            "disappointing   -> -7.8869\n",
            "gone            -> -7.8676\n",
            "ok              -> -7.8197\n",
            "\n",
            "Top 20 most neutral words:\n",
            "frappuccino     -> 0.0001\n",
            "finish          -> 0.0002\n",
            "wreck           -> -0.0003\n",
            "kiddo           -> -0.0003\n",
            "wei             -> 0.0004\n",
            "wedge           -> 0.0005\n",
            "punk            -> -0.0009\n",
            "capicola        -> -0.0012\n",
            "fairmont        -> 0.0012\n",
            "jeep            -> 0.0012\n",
            "npics           -> -0.0015\n",
            "prevent         -> 0.0016\n",
            "sanwhiches      -> -0.0020\n",
            "see             -> -0.0024\n",
            "ndg             -> 0.0025\n",
            "pumping         -> -0.0026\n",
            "cured           -> 0.0027\n",
            "galbi           -> 0.0031\n",
            "obsession       -> -0.0031\n",
            "titanic         -> -0.0031\n"
          ]
        }
      ]
    },
    {
      "cell_type": "markdown",
      "source": [
        "## Classificator\n",
        "\n",
        "It is interesting to see how the polar sentiment gets translated into the two  class values. Let's see:"
      ],
      "metadata": {
        "id": "ayZtmbdcvPyP"
      },
      "id": "ayZtmbdcvPyP"
    },
    {
      "cell_type": "code",
      "source": [
        "# Extract weights and bias from the classifier layer\n",
        "classifier_weight = net_1.classifier.weight.detach().cpu().numpy()\n",
        "classifier_bias = net_1.classifier.bias.detach().cpu().numpy()\n",
        "\n",
        "print(\"Classifier weights (shape: {}):\".format(classifier_weight.shape))\n",
        "print(classifier_weight)\n",
        "\n",
        "print(\"\\nClassifier bias (shape: {}):\".format(classifier_bias.shape))\n",
        "print(classifier_bias)\n",
        "\n",
        "print(\"Recall our coding: \")\n",
        "print(label_map)\n"
      ],
      "metadata": {
        "id": "0Ra3BaKGv7ib",
        "colab": {
          "base_uri": "https://localhost:8080/"
        },
        "outputId": "66da1b0f-4390-4f35-afcc-88a125ab55c7"
      },
      "id": "0Ra3BaKGv7ib",
      "execution_count": 10,
      "outputs": [
        {
          "output_type": "stream",
          "name": "stdout",
          "text": [
            "Classifier weights (shape: (1, 1)):\n",
            "[[6.8998113]]\n",
            "\n",
            "Classifier bias (shape: (1,)):\n",
            "[-0.21405357]\n",
            "Recall our coding: \n",
            "{0: 'negative', 1: 'positive'}\n"
          ]
        }
      ]
    },
    {
      "cell_type": "code",
      "source": [
        "# Hand-picked test sentences\n",
        "texts = [\n",
        "    \"I love this!\",\n",
        "    \"This is terrible\",\n",
        "    \"Thank you so much!\",\n",
        "    \"I hate this\",\n",
        "    \"Wow, awesome!\",\n",
        "    \"This sucks\"\n",
        "]\n",
        "\n",
        "# Convert texts to input_ids using your tokenizer\n",
        "input_ids = process_texts(texts, vocab)\n",
        "input_tensor = torch.tensor(input_ids).to(next(net_1.parameters()).device)\n",
        "\n",
        "# Predict with trained model\n",
        "net_1.eval()\n",
        "with torch.no_grad():\n",
        "    logits = net_1(input_tensor).squeeze()\n",
        "    probs = torch.sigmoid(logits)\n",
        "\n",
        "# Print results\n",
        "for text, prob in zip(texts, probs):\n",
        "    print(f\"{text:30} -> predicted probability of POSITIVE: {prob.item():.4f}\")\n"
      ],
      "metadata": {
        "id": "00X0GbtFELx7",
        "colab": {
          "base_uri": "https://localhost:8080/"
        },
        "outputId": "e7daec8c-deca-4e2d-af14-fd6173ea5e06"
      },
      "id": "00X0GbtFELx7",
      "execution_count": 11,
      "outputs": [
        {
          "output_type": "stream",
          "name": "stdout",
          "text": [
            "I love this!                   -> predicted probability of POSITIVE: 0.6337\n",
            "This is terrible               -> predicted probability of POSITIVE: 0.4203\n",
            "Thank you so much!             -> predicted probability of POSITIVE: 0.5746\n",
            "I hate this                    -> predicted probability of POSITIVE: 0.4541\n",
            "Wow, awesome!                  -> predicted probability of POSITIVE: 0.6699\n",
            "This sucks                     -> predicted probability of POSITIVE: 0.3926\n"
          ]
        }
      ]
    },
    {
      "cell_type": "markdown",
      "source": [
        "# 16 Feature Network, Now"
      ],
      "metadata": {
        "id": "Gn__dzYW2PWA"
      },
      "id": "Gn__dzYW2PWA"
    },
    {
      "cell_type": "code",
      "source": [
        "feature_cnt = 16\n",
        "vocab_len = max(vocab.values()) + 1   # maximal value (index) of a token\n",
        "\n",
        "class Net_16(torch.nn.Module):\n",
        "    def __init__(self):\n",
        "        super().__init__()\n",
        "        self.embedding = torch.nn.Embedding(vocab_len, feature_cnt)\n",
        "        self.classifier = torch.nn.Linear(feature_cnt, 1)\n",
        "    def forward(self, index):                        #batch, words\n",
        "        features = self.embedding(index)             #batch, words, features\n",
        "        features = features.mean(-2)                 #batch, features\n",
        "        classifications = self.classifier(features)  #batch, 1\n",
        "        logits = classifications.squeeze(-1)         #batch\n",
        "        return logits\n",
        "\n",
        "net_16=Net_16()\n",
        "train_loss, val_loss, train_acc, val_acc = train_model(net_16, train_loader, val_loader, epochs=120)\n",
        "plot_training_curves(train_loss, val_loss, train_acc, val_acc)"
      ],
      "metadata": {
        "id": "fSsb18Pf2hZP",
        "outputId": "ddff83f9-45e3-4c84-f9af-657fa6d61561",
        "colab": {
          "base_uri": "https://localhost:8080/",
          "height": 593
        }
      },
      "id": "fSsb18Pf2hZP",
      "execution_count": 12,
      "outputs": [
        {
          "output_type": "stream",
          "name": "stdout",
          "text": [
            "Working on cpu\n",
            "Epoch 000 | Train Loss: 0.6902, Acc: 0.5322 | Val Loss: 0.6860, Acc: 0.5467\n",
            "Epoch 010 | Train Loss: 0.5277, Acc: 0.8041 | Val Loss: 0.5151, Acc: 0.8102\n",
            "Epoch 020 | Train Loss: 0.3689, Acc: 0.8660 | Val Loss: 0.3686, Acc: 0.8629\n",
            "Epoch 030 | Train Loss: 0.2897, Acc: 0.8961 | Val Loss: 0.3024, Acc: 0.8832\n",
            "Epoch 040 | Train Loss: 0.2460, Acc: 0.9107 | Val Loss: 0.2707, Acc: 0.8927\n",
            "Epoch 050 | Train Loss: 0.2187, Acc: 0.9200 | Val Loss: 0.2542, Acc: 0.8971\n",
            "Epoch 060 | Train Loss: 0.1996, Acc: 0.9260 | Val Loss: 0.2451, Acc: 0.9003\n",
            "Epoch 070 | Train Loss: 0.1851, Acc: 0.9312 | Val Loss: 0.2409, Acc: 0.9022\n",
            "Epoch 080 | Train Loss: 0.1735, Acc: 0.9359 | Val Loss: 0.2392, Acc: 0.9035\n",
            "Epoch 090 | Train Loss: 0.1639, Acc: 0.9400 | Val Loss: 0.2397, Acc: 0.9060\n",
            "Elapsed time: 135.25 seconds\n"
          ]
        },
        {
          "output_type": "display_data",
          "data": {
            "text/plain": [
              "<Figure size 1400x500 with 2 Axes>"
            ],
            "image/png": "[encoded data removed]"
          },
          "metadata": {}
        }
      ]
    },
    {
      "cell_type": "markdown",
      "source": [
        "# Towards Attention!\n",
        "\n"
      ],
      "metadata": {
        "id": "cnwL4ci4aRMK"
      },
      "id": "cnwL4ci4aRMK"
    },
    {
      "cell_type": "markdown",
      "source": [
        "## The Entry Point\n",
        "\n",
        "The entry point is our Net_16 model with averaged features:"
      ],
      "metadata": {
        "id": "ZeX-Tnlra-pY"
      },
      "id": "ZeX-Tnlra-pY"
    },
    {
      "cell_type": "code",
      "source": [
        "feature_cnt = 16\n",
        "vocab_len = max(vocab.values()) + 1   # maximal value (index) of a token\n",
        "\n",
        "class Net_16(torch.nn.Module):\n",
        "    def __init__(self):\n",
        "        super().__init__()\n",
        "        self.embedding = torch.nn.Embedding(vocab_len, feature_cnt)\n",
        "        self.classifier = torch.nn.Linear(feature_cnt, 1)\n",
        "    def forward(self, index):                        #SIZE: batch, words\n",
        "        features = self.embedding(index)             #SIZE: batch, words, features\n",
        "\n",
        "        ### This is where AVERAGING takes place\n",
        "        features = features.mean(-2)                 #SIZE: batch, features\n",
        "\n",
        "\n",
        "        classifications = self.classifier(features)  #SIZE: batch, 1\n",
        "        logits = classifications.squeeze(-1)         #SIZE: batch\n",
        "        return logits"
      ],
      "metadata": {
        "id": "diAmuIhIbHOQ"
      },
      "id": "diAmuIhIbHOQ",
      "execution_count": 13,
      "outputs": []
    },
    {
      "cell_type": "markdown",
      "source": [
        "## Less Explicit Averaging"
      ],
      "metadata": {
        "id": "H-g5Q7KxbWzG"
      },
      "id": "H-g5Q7KxbWzG"
    },
    {
      "cell_type": "markdown",
      "source": [
        "The code below is equivalent to taking the `mean()` over words:"
      ],
      "metadata": {
        "id": "KLDhT9JCd9gh"
      },
      "id": "KLDhT9JCd9gh"
    },
    {
      "cell_type": "code",
      "source": [
        "feature_cnt = 16\n",
        "vocab_len = max(vocab.values()) + 1   # maximal value (index) of a token\n",
        "\n",
        "class Net_16_Towards_Attention(torch.nn.Module):\n",
        "    def __init__(self):\n",
        "        super().__init__()\n",
        "        self.embedding = torch.nn.Embedding(vocab_len, feature_cnt)\n",
        "        self.classifier = torch.nn.Linear(feature_cnt, 1)\n",
        "    def forward(self, index):                            #SIZE: batch, words\n",
        "        features = self.embedding(index)                 #SIZE: batch, words, features\n",
        "\n",
        "        ### This is where WHEIGHTED AVERAGING with EQUAL WEIGHTS takes place\n",
        "        batch = features.size(0)          # get the batch dimension\n",
        "        words = features.size(1)          # get the words dimension\n",
        "        weights = torch.ones((batch, 1, words)) / words   # create EQUAL WEIGHT tensor summing to 1.0 ( words x (1/words) )\n",
        "                                                         #SIZE: batch, 1, words\n",
        "        features = weights @ features                    #SIZE: batch, 1, features\n",
        "\n",
        "\n",
        "        classifications = self.classifier(features)      #SIZE: batch, 1, 1\n",
        "        logits = classifications.squeeze(-1).squeeze(-1) #SIZE: batch\n",
        "        return logits"
      ],
      "metadata": {
        "id": "epoXI3SZbcHg"
      },
      "id": "epoXI3SZbcHg",
      "execution_count": 14,
      "outputs": []
    },
    {
      "cell_type": "markdown",
      "source": [
        "And now let us refactor this, taking the weighted average part into a separate `Attention` module:"
      ],
      "metadata": {
        "id": "OFcB29hteVru"
      },
      "id": "OFcB29hteVru"
    },
    {
      "cell_type": "code",
      "source": [
        "feature_cnt = 16\n",
        "vocab_len = max(vocab.values()) + 1   # maximal value (index) of a token\n",
        "\n",
        "class Attention(torch.nn.Module):\n",
        "    def __init__(self):\n",
        "        super().__init__()\n",
        "    def forward(self, features):                         #SIZE: batch, words, features\n",
        "        batch = features.size(0)          # get the batch dimension\n",
        "        words = features.size(1)          # get the words dimension\n",
        "        weights = torch.ones((batch, 1, words)) / words   # create EQUAL WEIGHT tensor summing to 1.0 ( words x (1/words) )\n",
        "                                                         #SIZE: batch, 1, words\n",
        "        features = weights @ features                    #SIZE: batch, 1, features\n",
        "        return features\n",
        "\n",
        "class Net_16_Towards_Attention(torch.nn.Module):\n",
        "    def __init__(self):\n",
        "        super().__init__()\n",
        "        self.embedding = torch.nn.Embedding(vocab_len, feature_cnt)\n",
        "        self.attention = Attention()\n",
        "        self.classifier = torch.nn.Linear(feature_cnt, 1)\n",
        "    def forward(self, index):                            #SIZE: batch, words\n",
        "        features = self.embedding(index)                 #SIZE: batch, words, features\n",
        "\n",
        "        ### This is where WHEIGHTED AVERAGING with EQUAL WEIGHTS takes place\n",
        "        features = self.attention(features)              #SIZE: batch, 1, features\n",
        "\n",
        "        classifications = self.classifier(features)      #SIZE: batch, 1, 1\n",
        "        logits = classifications.squeeze(-1).squeeze(-1) #SIZE: batch\n",
        "        return logits"
      ],
      "metadata": {
        "id": "8FzeUuJ-ehns"
      },
      "id": "8FzeUuJ-ehns",
      "execution_count": 15,
      "outputs": []
    },
    {
      "cell_type": "markdown",
      "source": [
        "All that we did up until that point was to rewrite taking the `mean()` into a separate `Attention` which calculates the weighted averager with equal weights over weights."
      ],
      "metadata": {
        "id": "fKuofPqsfWxe"
      },
      "id": "fKuofPqsfWxe"
    },
    {
      "cell_type": "markdown",
      "source": [
        "## Introducing the Notion of Energy\n",
        "\n",
        "Another useful concept is that of the energy. The energy equal to 0 uniformly for all words translates (with the use of `softmax`) into the equal weights, so the below version is still equivalent to what we already had (but, arguably, it looks much more complex):"
      ],
      "metadata": {
        "id": "3cFkehdKf1vE"
      },
      "id": "3cFkehdKf1vE"
    },
    {
      "cell_type": "code",
      "source": [
        "import torch.nn.functional as F\n",
        "\n",
        "feature_cnt = 16\n",
        "vocab_len = max(vocab.values()) + 1   # maximal value (index) of a token\n",
        "\n",
        "class Attention(torch.nn.Module):\n",
        "    def __init__(self):\n",
        "        super().__init__()\n",
        "    def forward(self, features):                        #SIZE: batch, words, features\n",
        "        batch = features.size(0)          # get the batch dimension\n",
        "        words = features.size(1)          # get the words dimension\n",
        "        energies = torch.zeros((batch, 1, words))       #SIZE: batch, 1, words\n",
        "        weights = F.softmax(energies, -1)               #SIZE: batch, 1, words\n",
        "        features = weights @ features                   #SIZE: batch, 1, features\n",
        "        return features\n",
        "\n",
        "class Net_16_Towards_Attention(torch.nn.Module):\n",
        "    def __init__(self):\n",
        "        super().__init__()\n",
        "        self.embedding = torch.nn.Embedding(vocab_len, feature_cnt)\n",
        "        self.attention = Attention()\n",
        "        self.classifier = torch.nn.Linear(feature_cnt, 1)\n",
        "    def forward(self, index):                            #SIZE: batch, words\n",
        "        features = self.embedding(index)                 #SIZE: batch, words, features\n",
        "\n",
        "        ### This is where WHEIGHTED AVERAGING with EQUAL WEIGHTS takes place\n",
        "        features = self.attention(features)              #SIZE: batch, 1, features\n",
        "\n",
        "        classifications = self.classifier(features)      #SIZE: batch, 1, 1\n",
        "        logits = classifications.squeeze(-1).squeeze(-1) #SIZE: batch\n",
        "        return logits"
      ],
      "metadata": {
        "id": "IVkMyyYjgN6p"
      },
      "id": "IVkMyyYjgN6p",
      "execution_count": 16,
      "outputs": []
    },
    {
      "cell_type": "markdown",
      "source": [
        "## Something New - Learned Energies"
      ],
      "metadata": {
        "id": "8Q4efFtch23v"
      },
      "id": "8Q4efFtch23v"
    },
    {
      "cell_type": "code",
      "source": [
        "feature_cnt = 16\n",
        "vocab_len = max(vocab.values()) + 1   # maximal value (index) of a token\n",
        "\n",
        "class Attention(torch.nn.Module):\n",
        "    def __init__(self):\n",
        "        super().__init__()\n",
        "        self.energy = torch.nn.Linear(feature_cnt, 1)\n",
        "    def forward(self, features):                        #SIZE: batch, words, features\n",
        "        batch = features.size(0)          # get the batch dimension\n",
        "        words = features.size(1)          # get the words dimension\n",
        "        energies = self.energy(features)                #SIZE: batch, words, 1\n",
        "        energies = energies.transpose(-2, -1)           #SIZE: batch, 1, words\n",
        "        weights = F.softmax(energies, -1)               #SIZE: batch, 1, words\n",
        "        features = weights @ features                   #SIZE: batch, 1, features\n",
        "        return features\n",
        "\n",
        "class Net_16_Towards_Attention(torch.nn.Module):\n",
        "    def __init__(self):\n",
        "        super().__init__()\n",
        "        self.embedding = torch.nn.Embedding(vocab_len, feature_cnt)\n",
        "        self.attention = Attention()\n",
        "        self.classifier = torch.nn.Linear(feature_cnt, 1)\n",
        "    def forward(self, index):                            #SIZE: batch, words\n",
        "        features = self.embedding(index)                 #SIZE: batch, words, features\n",
        "\n",
        "        ### This is where WHEIGHTED AVERAGING with LEARNED WEIGHTS takes place\n",
        "        features = self.attention(features)              #SIZE: batch, 1, features\n",
        "\n",
        "        classifications = self.classifier(features)      #SIZE: batch, 1, 1\n",
        "        logits = classifications.squeeze(-1).squeeze(-1) #SIZE: batch\n",
        "        return logits\n",
        "\n",
        "net_att = Net_16_Towards_Attention()\n",
        "\n",
        "# Execute training again\n",
        "train_loss, val_loss, train_acc, val_acc = train_model(net_att, train_loader, val_loader, epochs = 80)\n",
        "plot_training_curves(train_loss, val_loss, train_acc, val_acc)"
      ],
      "metadata": {
        "id": "8VLpkoPbh9LG",
        "colab": {
          "base_uri": "https://localhost:8080/"
        },
        "outputId": "e3be5e60-f3c4-49ff-9200-e3cfe1b04547"
      },
      "id": "8VLpkoPbh9LG",
      "execution_count": null,
      "outputs": [
        {
          "output_type": "stream",
          "name": "stdout",
          "text": [
            "Working on cpu\n",
            "Epoch 000 | Train Loss: 0.6923, Acc: 0.5161 | Val Loss: 0.6888, Acc: 0.5371\n",
            "Epoch 010 | Train Loss: 0.3886, Acc: 0.8342 | Val Loss: 0.3882, Acc: 0.8311\n",
            "Epoch 020 | Train Loss: 0.2603, Acc: 0.8952 | Val Loss: 0.2886, Acc: 0.8844\n",
            "Epoch 030 | Train Loss: 0.2183, Acc: 0.9134 | Val Loss: 0.2752, Acc: 0.8857\n",
            "Epoch 040 | Train Loss: 0.1865, Acc: 0.9277 | Val Loss: 0.2768, Acc: 0.8876\n"
          ]
        }
      ]
    }
  ],
  "metadata": {
    "colab": {
      "provenance": [],
      "toc_visible": true,
      "gpuType": "T4",
      "include_colab_link": true
    },
    "language_info": {
      "name": "python"
    },
    "kernelspec": {
      "name": "python3",
      "display_name": "Python 3"
    },
    "accelerator": "GPU"
  },
  "nbformat": 4,
  "nbformat_minor": 5
}