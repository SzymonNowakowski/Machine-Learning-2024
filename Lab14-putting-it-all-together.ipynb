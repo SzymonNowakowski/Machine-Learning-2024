{
  "cells": [
    {
      "cell_type": "markdown",
      "metadata": {
        "id": "view-in-github",
        "colab_type": "text"
      },
      "source": [
        "<a href=\"https://colab.research.google.com/github/SzymonNowakowski/Machine-Learning-2024/blob/master/Lab14-putting-it-all-together.ipynb\" target=\"_parent\"><img src=\"https://colab.research.google.com/assets/colab-badge.svg\" alt=\"Open In Colab\"/></a>"
      ]
    },
    {
      "cell_type": "markdown",
      "source": [
        "# Lab 14 - Putting It All Together\n",
        "\n",
        "\n",
        "### Author: Szymon Nowakowski\n"
      ],
      "metadata": {
        "id": "xl_-W_aXqjJ2"
      },
      "id": "xl_-W_aXqjJ2"
    },
    {
      "cell_type": "markdown",
      "source": [
        "# Introduction\n",
        "---------------\n",
        "\n",
        "This is our last class this semester. It responds to a request made by several students to explain the **design process** behind a complete neural network architecture.\n",
        "\n",
        "This is, frankly, a difficult task — because such a process relies heavily on **intuition and experience**, neither of which can be fully explained. They are acquired through *“dupogodziny”* — the hours you spend working, trying, failing, adjusting, and learning.\n",
        "\n",
        "I once attended a drawing school I liked a lot, and their motto was striking:\n",
        "\n",
        "**Talent nie istnieje** — *Talent does not exist.*\n",
        "\n",
        "The owner used to explain this quite eloquently. Every artist's output quality can be described by their **personal Gaussian distribution**. Talent is responsible only for the initial placement of the expected value of that distribution — sure, some people naturally produce better work *on average*, when they are young and untrained. But the most important factor determining the final quality of the art is **time spent practicing** — the *dupogodziny* you put in every day.\n",
        "\n",
        "With that in mind, in this final class, I'll walk you through the **design and training** process of a neural network I most recently worked on:  \n",
        "a **regressor for predicting period length in chloroplast grana**.\n",
        "\n",
        "But the final and most important thought I woudl like to convey is that you need to spend your time practicing.\n",
        "\n",
        "This is why the homework for the 13th class will in fact put you through your own design process of trial and error. Sure, I provided some suggestions, but I am also sure that you will need to work out what works for you and what not.\n",
        "\n",
        "\n"
      ],
      "metadata": {
        "id": "kzosqJ1czsY9"
      },
      "id": "kzosqJ1czsY9"
    }
  ],
  "metadata": {
    "colab": {
      "provenance": [],
      "toc_visible": true,
      "gpuType": "T4",
      "include_colab_link": true
    },
    "language_info": {
      "name": "python"
    },
    "kernelspec": {
      "name": "python3",
      "display_name": "Python 3"
    },
    "accelerator": "GPU"
  },
  "nbformat": 4,
  "nbformat_minor": 5
}