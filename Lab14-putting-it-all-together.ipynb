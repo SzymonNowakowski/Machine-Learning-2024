{
  "cells": [
    {
      "cell_type": "markdown",
      "metadata": {
        "id": "view-in-github",
        "colab_type": "text"
      },
      "source": [
        "<a href=\"https://colab.research.google.com/github/SzymonNowakowski/Machine-Learning-2024/blob/master/Lab14-putting-it-all-together.ipynb\" target=\"_parent\"><img src=\"https://colab.research.google.com/assets/colab-badge.svg\" alt=\"Open In Colab\"/></a>"
      ]
    },
    {
      "cell_type": "markdown",
      "source": [
        "# Lab 14 - Putting It All Together\n",
        "\n",
        "\n",
        "### Author: Szymon Nowakowski\n"
      ],
      "metadata": {
        "id": "xl_-W_aXqjJ2"
      },
      "id": "xl_-W_aXqjJ2"
    },
    {
      "cell_type": "markdown",
      "source": [
        "# Introduction\n",
        "---------------\n",
        "\n",
        "\n",
        "This is our last class this semester. It responds to a request made by several students to explain the **design process** behind a complete neural network architecture.\n",
        "\n",
        "This is, frankly, a difficult task — because such a process relies heavily on **intuition and experience**, neither of which can be fully explained. They are acquired through *“dupogodziny”* — the hours you spend working, trying, failing, adjusting, and learning.\n",
        "\n",
        "I once attended a drawing school I liked a lot, and their motto was striking:\n",
        "\n",
        "**Talent nie istnieje** — *Talent does not exist.*\n",
        "\n",
        "The school owner used to explain this quite eloquently. Every artist's output quality can be described by their **personal Gaussian distribution**: some works of art are better, some worse — their spread is captured by the **standard deviation**, while their **average quality** is given by the **mean** of the distribution.\n",
        "\n",
        "Talent is responsible only for the initial placement of the expected value of that distribution — sure, some people naturally produce better work *on average*, when they are young and untrained. But the most important factor determining the final quality of the art is **time spent practicing** — the *dupogodziny* you put in every day.\n",
        "\n",
        "With that in mind, in this final class, I'll walk you through the **design and training** process of a neural network I most recently worked on:  \n",
        "a **regressor for predicting period length in chloroplast grana**.\n",
        "\n",
        "But the final and most important thought I would like to convey is this:  \n",
        "you will benefit most from the time spent practicing.\n",
        "\n",
        "This is in fact a very **optimistic statement**.\n",
        "\n",
        "That's why the homework for the 13th class **will** put you through your own design process of trial and error. Sure, I've provided some initial suggestions — but I am also sure that you'll need to figure out what works for you and what doesn't.\n",
        "\n",
        "**Put in the hours. That's where learning happens.**\n",
        "\n",
        "\n",
        "\n"
      ],
      "metadata": {
        "id": "kzosqJ1czsY9"
      },
      "id": "kzosqJ1czsY9"
    },
    {
      "cell_type": "markdown",
      "source": [
        "# Dataset Description - Grana\n",
        "----------------------------\n",
        "\n",
        "<div align=\"center\">\n",
        "  <img src=\"https://github.com/SzymonNowakowski/Machine-Learning-2024/blob/master/grana/granum_image.png?raw=1\"\n",
        "       alt=\"granum image\" width=\"600\" height=\"600\">\n",
        "</div>\n",
        "\n",
        "**Grana** (singular: *granum*) are stacks of **thylakoid membranes** found within the **chloroplasts** of plant cells and some algae. They play a central role in **photosynthesis**, particularly in the light-dependent reactions.\n",
        "\n",
        "## Structure\n",
        "\n",
        "- Each **granum** resembles a stack of coins or pancakes.\n",
        "- A **granum** consists of multiple **thylakoids**, which are membrane-bound compartments.\n",
        "- Thylakoids are interconnected by **stromal lamellae**, which help maintain the structure and allow for communication between grana.\n",
        "\n",
        "## Function\n",
        "\n",
        "Grana are the **site of light-dependent reactions** of photosynthesis:\n",
        "- These structures absorb **light energy**, produce **ATP**, and reduce **NADP⁺** to **NADPH**.\n",
        "- Water molecules are split (photolysis), releasing **oxygen** as a by-product."
      ],
      "metadata": {
        "id": "nen0ctjJIank"
      },
      "id": "nen0ctjJIank"
    },
    {
      "cell_type": "markdown",
      "source": [
        "# Task Description\n",
        "----------------------------"
      ],
      "metadata": {
        "id": "pFaUA4VFIfAS"
      },
      "id": "pFaUA4VFIfAS"
    },
    {
      "cell_type": "markdown",
      "source": [
        "# Neural Network Architecture\n",
        "------------------------------------\n",
        "\n",
        "The task is threefold\n",
        "1. Make a neural network that is capable of"
      ],
      "metadata": {
        "id": "PIF5p1XHIltx"
      },
      "id": "PIF5p1XHIltx"
    },
    {
      "cell_type": "markdown",
      "source": [
        "## Convolutional Encoder"
      ],
      "metadata": {
        "id": "_P1ZMxXgIpQx"
      },
      "id": "_P1ZMxXgIpQx"
    },
    {
      "cell_type": "markdown",
      "source": [
        "## Attention Module"
      ],
      "metadata": {
        "id": "YanJLl3-IrmJ"
      },
      "id": "YanJLl3-IrmJ"
    },
    {
      "cell_type": "markdown",
      "source": [
        "## Two Head Linear Regressor"
      ],
      "metadata": {
        "id": "b_2hnSqOIwvR"
      },
      "id": "b_2hnSqOIwvR"
    },
    {
      "cell_type": "markdown",
      "source": [
        "# Visualising Attention\n",
        "----------------------"
      ],
      "metadata": {
        "id": "DduFZniHJ9cI"
      },
      "id": "DduFZniHJ9cI"
    },
    {
      "cell_type": "markdown",
      "source": [
        "# Loss Functions\n",
        "---------------------"
      ],
      "metadata": {
        "id": "ImRpzZPRJWO8"
      },
      "id": "ImRpzZPRJWO8"
    },
    {
      "cell_type": "markdown",
      "source": [
        "# Training Process\n",
        "-----------------------"
      ],
      "metadata": {
        "id": "q6pcKmheI4Hv"
      },
      "id": "q6pcKmheI4Hv"
    },
    {
      "cell_type": "markdown",
      "source": [
        "## Convolutional Encoder Training"
      ],
      "metadata": {
        "id": "N1uFMh1UI6zP"
      },
      "id": "N1uFMh1UI6zP"
    },
    {
      "cell_type": "markdown",
      "source": [
        "## Attention Module Training"
      ],
      "metadata": {
        "id": "pBr7iyvtI_UH"
      },
      "id": "pBr7iyvtI_UH"
    },
    {
      "cell_type": "markdown",
      "source": [
        "## Gaussian Training"
      ],
      "metadata": {
        "id": "rTc0QRqWJJEt"
      },
      "id": "rTc0QRqWJJEt"
    }
  ],
  "metadata": {
    "colab": {
      "provenance": [],
      "toc_visible": true,
      "gpuType": "T4",
      "include_colab_link": true
    },
    "language_info": {
      "name": "python"
    },
    "kernelspec": {
      "name": "python3",
      "display_name": "Python 3"
    },
    "accelerator": "GPU"
  },
  "nbformat": 4,
  "nbformat_minor": 5
}